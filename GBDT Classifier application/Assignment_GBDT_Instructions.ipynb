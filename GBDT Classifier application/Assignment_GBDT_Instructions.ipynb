{
 "cells": [
  {
   "cell_type": "markdown",
   "metadata": {
    "colab_type": "text",
    "id": "8wqapAXjsc24"
   },
   "source": [
    "# Assignment 9: GBDT"
   ]
  },
  {
   "cell_type": "markdown",
   "metadata": {
    "colab_type": "text",
    "id": "8u5NhbnEsc2-"
   },
   "source": [
    "#### Response Coding: Example"
   ]
  },
  {
   "cell_type": "markdown",
   "metadata": {
    "colab_type": "text",
    "id": "HIFWmwHKsc3A"
   },
   "source": [
    "<img src='http://i.imgur.com/TufZptV.jpg' width=700px>\n",
    "\n",
    "> The response tabel is built only on train dataset.\n",
    "> For a category which is not there in train data and present in test data, we will encode them with default values\n",
    "Ex: in our test data if have State: D then we encode it as [0.5, 0.05]"
   ]
  },
  {
   "cell_type": "code",
   "execution_count": null,
   "metadata": {},
   "outputs": [],
   "source": []
  },
  {
   "cell_type": "code",
   "execution_count": null,
   "metadata": {},
   "outputs": [],
   "source": []
  },
  {
   "cell_type": "markdown",
   "metadata": {
    "colab_type": "text",
    "id": "3KwfGufDsc3D"
   },
   "source": [
    "<ol>\n",
    "    <li><strong>Apply GBDT on these feature sets</strong>\n",
    "        <ul>\n",
    "            <li><font color='red'>Set 1</font>: categorical(instead of one hot encoding, try <a href='https://www.appliedaicourse.com/course/applied-ai-course-online/lessons/handling-categorical-and-numerical-features/'>response coding</a>: use probability values), numerical features + project_title(TFIDF)+  preprocessed_eassay (TFIDF)+sentiment Score of eassay(check the bellow example, include all 4 values as 4 features)</li>\n",
    "            <li><font color='red'>Set 2</font>: categorical(instead of one hot encoding, try <a href='https://www.appliedaicourse.com/course/applied-ai-course-online/lessons/handling-categorical-and-numerical-features/'>response coding</a>: use probability values), numerical features + project_title(TFIDF W2V)+  preprocessed_eassay (TFIDF W2V)</li>        \n",
    "    </li>\n",
    "    <li> Here in response encoding you need to apply the <strong>laplase smoothing</strong> value for test set. Laplase smoothing means, If test point is present in test but not in train then you need to apply default 0.5 as probability value for that data point (Refer the Response Encoding Image from above cell) </li>\n",
    "    <li>Please use atleast <strong> 35k </strong> data points </li></ul>\n",
    "    <li><strong>The hyper paramter tuning (Consider any two hyper parameters)</strong>\n",
    "        <ul>\n",
    "    <li>Find the best hyper parameter which will give the maximum <a href='https://www.appliedaicourse.com/course/applied-ai-course-online/lessons/receiver-operating-characteristic-curve-roc-curve-and-auc-1/'>AUC</a> value</li>\n",
    "    <li>find the best hyper paramter using k-fold cross validation/simple cross validation data</li>\n",
    "    <li>use gridsearch cv or randomsearch cv or you can write your own for loops to do this task</li>\n",
    "        </ul>\n",
    "    </li>\n",
    "    <li>\n",
    "    <strong>Representation of results</strong>\n",
    "        <ul>\n",
    "    <li>You need to plot the performance of model both on train data and cross validation data for each hyper parameter, like shown in the figure\n",
    "    <img src='https://i.imgur.com/Gp2DQmh.jpg' width=500px> with X-axis as <strong>n_estimators</strong>, Y-axis as <strong>max_depth</strong>, and Z-axis as <strong>AUC Score</strong> , we have given the notebook which explains how to plot this 3d plot, you can find it in the same drive <i>3d_scatter_plot.ipynb</i></li>\n",
    "            <p style=\"text-align:center;font-size:30px;color:red;\"><strong>or</strong></p> <br>\n",
    "    <li>You need to plot the performance of model both on train data and cross validation data for each hyper parameter, like shown in the figure\n",
    "    <img src='https://i.imgur.com/fgN9aUP.jpg' width=300px> <a href='https://seaborn.pydata.org/generated/seaborn.heatmap.html'>seaborn heat maps</a> with rows as <strong>n_estimators</strong>, columns as <strong>max_depth</strong>, and values inside the cell representing <strong>AUC Score</strong> </li>\n",
    "    <li>You choose either of the plotting techniques out of 3d plot or heat map</li>\n",
    "    <li>Once after you found the best hyper parameter, you need to train your model with it, and find the AUC on test data and plot the ROC curve on both train and test.\n",
    "        Make sure that you are using predict_proba method to calculate AUC curves, because AUC is calcualted on class probabilities and not on class labels.\n",
    "    <img src='https://i.imgur.com/wMQDTFe.jpg' width=300px></li>\n",
    "    <li>Along with plotting ROC curve, you need to print the <a href='https://www.appliedaicourse.com/course/applied-ai-course-online/lessons/confusion-matrix-tpr-fpr-fnr-tnr-1/'>confusion matrix</a> with predicted and original labels of test data points\n",
    "    <img src='https://i.imgur.com/IdN5Ctv.png' width=300px></li>\n",
    "            </ul>\n",
    "    <br>\n",
    "    <li>You need to summarize the results at the end of the notebook, summarize it in the table format\n",
    "        <img src='http://i.imgur.com/YVpIGGE.jpg' width=400px>\n",
    "    </li>\n",
    "</ol>"
   ]
  },
  {
   "cell_type": "markdown",
   "metadata": {},
   "source": [
    "# Few Notes"
   ]
  },
  {
   "cell_type": "markdown",
   "metadata": {},
   "source": [
    "1. Use atleast 35k data points\n",
    "2. Use classifier.Predict_proba() method instead of predict() method while calculating roc_auc scores\n",
    "3. Be sure that you are using laplase smoothing in response encoding function. Laplase smoothing means applying the default (0.5) value to test data if the test data is not present in the train set\n"
   ]
  },
  {
   "cell_type": "code",
   "execution_count": 2,
   "metadata": {
    "colab": {},
    "colab_type": "code",
    "id": "iffa2_WGsc3H",
    "outputId": "151fc2d5-3bc1-4206-9bd2-000dbf662b31"
   },
   "outputs": [
    {
     "name": "stdout",
     "output_type": "stream",
     "text": [
      "sentiment score for sentence 1 {'neg': 0.0, 'neu': 0.213, 'pos': 0.787, 'compound': 0.5719}\n",
      "sentiment score for sentence 2 {'neg': 0.756, 'neu': 0.244, 'pos': 0.0, 'compound': -0.4767}\n",
      "sentiment score for sentence 3 {'neg': 0.0, 'neu': 1.0, 'pos': 0.0, 'compound': 0.0}\n"
     ]
    }
   ],
   "source": [
    "import nltk\n",
    "from nltk.sentiment.vader import SentimentIntensityAnalyzer\n",
    "# import nltk\n",
    "# nltk.download('vader_lexicon')\n",
    "\n",
    "sid = SentimentIntensityAnalyzer()\n",
    "\n",
    "sample_sentence_1='I am happy.'\n",
    "ss_1 = sid.polarity_scores(sample_sentence_1)\n",
    "print('sentiment score for sentence 1',ss_1)\n",
    "\n",
    "sample_sentence_2='I am sad.'\n",
    "ss_2 = sid.polarity_scores(sample_sentence_2)\n",
    "print('sentiment score for sentence 2',ss_2)\n",
    "\n",
    "sample_sentence_3='I am going to New Delhi tommorow.'\n",
    "ss_3 = sid.polarity_scores(sample_sentence_3)\n",
    "print('sentiment score for sentence 3',ss_3)\n"
   ]
  },
  {
   "cell_type": "markdown",
   "metadata": {
    "colab_type": "text",
    "id": "BOyTl7oKsc3W"
   },
   "source": [
    "<h1>1. GBDT (xgboost/lightgbm) </h1>"
   ]
  },
  {
   "cell_type": "markdown",
   "metadata": {
    "colab_type": "text",
    "id": "VWge-b2Zsc3Z"
   },
   "source": [
    "## 1.1 Loading Data"
   ]
  },
  {
   "cell_type": "code",
   "execution_count": 5,
   "metadata": {
    "colab": {},
    "colab_type": "code",
    "id": "WDZFu6-usc3d"
   },
   "outputs": [],
   "source": [
    "import pandas as pd\n",
    "data = pd.read_csv('preprocessed_data.csv')\n",
    "titles = pd.read_csv('preprocessed_titles.csv')"
   ]
  },
  {
   "cell_type": "code",
   "execution_count": 6,
   "metadata": {},
   "outputs": [],
   "source": [
    "data = pd.concat([data,titles],axis = 1)\n",
    "data = data.fillna('')"
   ]
  },
  {
   "cell_type": "markdown",
   "metadata": {
    "colab_type": "text",
    "id": "6lAMFKFcsc3j"
   },
   "source": [
    "<h2>1.2 Splitting data into Train and cross validation(or test): Stratified Sampling</h2>"
   ]
  },
  {
   "cell_type": "code",
   "execution_count": 7,
   "metadata": {
    "colab": {},
    "colab_type": "code",
    "id": "ODMijuuNsc3l"
   },
   "outputs": [],
   "source": [
    "# please write all the code with proper documentation, and proper titles for each subsection\n",
    "# go through documentations and blogs before you start coding\n",
    "# first figure out what to do, and then think about how to do.\n",
    "# reading and understanding error messages will be very much helpfull in debugging your code\n",
    "# when you plot any graph make sure you use \n",
    "    # a. Title, that describes your plot, this will be very helpful to the reader\n",
    "    # b. Legends if needed\n",
    "    # c. X-axis label\n",
    "    # d. Y-axis label\n",
    "y = data['project_is_approved'].values\n",
    "X = data.drop(['project_is_approved'], axis=1)\n",
    "from sklearn.model_selection import train_test_split\n",
    "X_train, X_test, y_train, y_test = train_test_split(X, y, test_size=0.33, stratify=y)\n",
    "X_train, X_cv, y_train, y_cv = train_test_split(X_train, y_train, test_size=0.33, stratify=y_train)    "
   ]
  },
  {
   "cell_type": "code",
   "execution_count": 8,
   "metadata": {},
   "outputs": [
    {
     "name": "stderr",
     "output_type": "stream",
     "text": [
      "100%|██████████| 49041/49041 [01:11<00:00, 684.70it/s]\n",
      "  0%|          | 45/24155 [00:00<00:55, 435.21it/s]"
     ]
    },
    {
     "name": "stdout",
     "output_type": "stream",
     "text": [
      "0\n"
     ]
    },
    {
     "name": "stderr",
     "output_type": "stream",
     "text": [
      "100%|██████████| 24155/24155 [00:37<00:00, 648.84it/s]\n",
      "  0%|          | 58/36052 [00:00<01:02, 575.27it/s]"
     ]
    },
    {
     "name": "stdout",
     "output_type": "stream",
     "text": [
      "1\n"
     ]
    },
    {
     "name": "stderr",
     "output_type": "stream",
     "text": [
      "100%|██████████| 36052/36052 [00:59<00:00, 609.74it/s]"
     ]
    },
    {
     "name": "stdout",
     "output_type": "stream",
     "text": [
      "2\n"
     ]
    },
    {
     "name": "stderr",
     "output_type": "stream",
     "text": [
      "\n"
     ]
    }
   ],
   "source": [
    "from scipy.sparse import csr_matrix\n",
    "from tqdm import tqdm\n",
    "\n",
    "sid = SentimentIntensityAnalyzer()\n",
    "\n",
    "li = ['neg','neu','pos','compound']\n",
    "data_list = [X_train,X_cv,X_test]\n",
    "\n",
    "sentiment_data_list = []\n",
    "\n",
    "\n",
    "for item_indx,item in enumerate(data_list):\n",
    "    rows = []\n",
    "    columns = []\n",
    "    sentiment_scores = list()\n",
    "    for rw_index,i in enumerate(tqdm(item['essay'].values.tolist())):\n",
    "        val = sid.polarity_scores(i)\n",
    "        for col_index,n in enumerate(li):\n",
    "            sentiment_scores.append(val[n])\n",
    "            #print(col_index)\n",
    "            columns.append(col_index)\n",
    "            rows.append(rw_index)\n",
    "    print(item_indx)        \n",
    "    sentiment_data_list.append(csr_matrix((sentiment_scores,(rows,columns)),shape=(len(item),len(li))))        "
   ]
  },
  {
   "cell_type": "code",
   "execution_count": 9,
   "metadata": {},
   "outputs": [],
   "source": [
    "from sklearn.feature_extraction.text import TfidfVectorizer\n",
    "from sklearn.feature_extraction.text import CountVectorizer\n",
    "\n",
    "tfidf_model_essay = TfidfVectorizer()\n",
    "tfidf_model_essay.fit(data['essay'].values)\n",
    "# we are converting a dictionary with word as a key, and the idf as a value\n",
    "dictionary_essay = dict(zip(tfidf_model_essay.get_feature_names(), list(tfidf_model_essay.idf_)))\n",
    "tfidf_words_essay = set(tfidf_model_essay.get_feature_names())\n",
    "\n",
    "tfidf_model_title = TfidfVectorizer()\n",
    "tfidf_model_title.fit(data['titles'].values)\n",
    "# we are converting a dictionary with word as a key, and the idf as a value\n",
    "dictionary_title = dict(zip(tfidf_model_title.get_feature_names(), list(tfidf_model_title.idf_)))\n",
    "tfidf_words_title = set(tfidf_model_title.get_feature_names())"
   ]
  },
  {
   "cell_type": "code",
   "execution_count": 10,
   "metadata": {},
   "outputs": [],
   "source": [
    "import pickle\n",
    "#please use below code to load glove vectors \n",
    "with open('glove_vectors', 'rb') as f:\n",
    "    model = pickle.load(f)\n",
    "    glove_words =  set(model.keys())"
   ]
  },
  {
   "cell_type": "code",
   "execution_count": 11,
   "metadata": {},
   "outputs": [
    {
     "data": {
      "text/plain": [
       "Index(['school_state', 'teacher_prefix', 'project_grade_category',\n",
       "       'teacher_number_of_previously_posted_projects', 'project_is_approved',\n",
       "       'clean_categories', 'clean_subcategories', 'essay', 'price', 'titles'],\n",
       "      dtype='object')"
      ]
     },
     "execution_count": 11,
     "metadata": {},
     "output_type": "execute_result"
    }
   ],
   "source": [
    "data.columns"
   ]
  },
  {
   "cell_type": "code",
   "execution_count": 12,
   "metadata": {},
   "outputs": [
    {
     "name": "stdout",
     "output_type": "stream",
     "text": [
      "After vectorizations\n",
      "(49041, 12174) (49041,)\n",
      "(24155, 12174) (24155,)\n",
      "(36052, 12174) (36052,)\n",
      "====================================================================================================\n"
     ]
    },
    {
     "name": "stderr",
     "output_type": "stream",
     "text": [
      "100%|██████████| 49041/49041 [01:28<00:00, 555.10it/s]\n",
      "100%|██████████| 24155/24155 [00:42<00:00, 564.38it/s]\n",
      "100%|██████████| 36052/36052 [01:03<00:00, 564.37it/s]\n",
      "100%|██████████| 49041/49041 [00:01<00:00, 41748.46it/s]\n",
      "100%|██████████| 24155/24155 [00:00<00:00, 40725.67it/s]\n",
      "100%|██████████| 36052/36052 [00:00<00:00, 39176.25it/s]"
     ]
    },
    {
     "name": "stdout",
     "output_type": "stream",
     "text": [
      "49041\n",
      "24155\n",
      "36052\n",
      "300\n"
     ]
    },
    {
     "name": "stderr",
     "output_type": "stream",
     "text": [
      "\n"
     ]
    }
   ],
   "source": [
    "%matplotlib inline\n",
    "import warnings\n",
    "warnings.filterwarnings(\"ignore\")\n",
    "\n",
    "import pandas as pd\n",
    "import numpy as np\n",
    "import nltk\n",
    "import matplotlib.pyplot as plt\n",
    "import seaborn as sns\n",
    "from sklearn.metrics import confusion_matrix\n",
    "from sklearn import metrics\n",
    "from sklearn.metrics import roc_curve, auc\n",
    "\n",
    "import re\n",
    "# Tutorial about Python regular expressions: https://pymotw.com/2/re/\n",
    "\n",
    "import pickle\n",
    "import os\n",
    "\n",
    "from collections import Counter\n",
    "\n",
    "# Apply TF-IDF vectorization on 'Preprocessed_Essay' \n",
    "\n",
    "vectorizer = TfidfVectorizer(min_df=10)\n",
    "vectorizer.fit(X_train['essay'].values)\n",
    "X_train_essay_tfidf = vectorizer.transform(X_train['essay'].values)\n",
    "X_cv_essay_tfidf = vectorizer.transform(X_cv['essay'].values)\n",
    "X_test_essay_tfidf = vectorizer.transform(X_test['essay'].values)\n",
    "print(\"After vectorizations\")\n",
    "print(X_train_essay_tfidf.shape, y_train.shape)\n",
    "print(X_cv_essay_tfidf.shape, y_cv.shape)\n",
    "print(X_test_essay_tfidf.shape, y_test.shape)\n",
    "print(\"=\"*100)\n",
    "\n",
    "# Apply TF-IDF vectorization on 'Preprocessed_Title' \n",
    "vectorizer = TfidfVectorizer(min_df=10)\n",
    "vectorizer.fit(X_train['titles'].values)\n",
    "X_train_titles_tfidf = vectorizer.transform(X_train['titles'].values)\n",
    "X_cv_titles_tfidf = vectorizer.transform(X_cv['titles'].values)\n",
    "X_test_titles_tfidf = vectorizer.transform(X_test['titles'].values)\n",
    "\n",
    "# Apply TF-IDF W2V vectorization on 'Preprocessed_Essay'\n",
    "\n",
    "tfidf_w2v_vectors_tr_essay = []; # the avg-w2v for each sentence/review is stored in this list\n",
    "tfidf_w2v_vectors_cv_essay = [];\n",
    "tfidf_w2v_vectors_te_essay = [];\n",
    "for sentence in tqdm(X_train['essay'].values): # for each review/sentence\n",
    "    vector = np.zeros(300) # as word vectors are of zero length\n",
    "    tf_idf_weight =0; # num of words with a valid vector in the sentence/review\n",
    "    for word in sentence.split(): # for each word in a review/sentence\n",
    "        if (word in glove_words) and (word in tfidf_words_essay):\n",
    "            vec = model[word] # getting the vector for each word\n",
    "            # here we are multiplying idf value(dictionary[word]) and the tf value((sentence.count(word)/len(sentence.split())))\n",
    "            tf_idf = dictionary_essay[word]*(sentence.count(word)/len(sentence.split())) # getting the tfidf value for each word\n",
    "            vector += (vec * tf_idf) # calculating tfidf weighted w2v\n",
    "            tf_idf_weight += tf_idf\n",
    "    if tf_idf_weight != 0:\n",
    "        vector /= tf_idf_weight\n",
    "    tfidf_w2v_vectors_tr_essay.append(vector)\n",
    "    \n",
    "for sentence in tqdm(X_cv['essay'].values): # for each review/sentence\n",
    "    vector = np.zeros(300) # as word vectors are of zero length\n",
    "    tf_idf_weight =0; # num of words with a valid vector in the sentence/review\n",
    "    for word in sentence.split(): # for each word in a review/sentence\n",
    "        if (word in glove_words) and (word in tfidf_words_essay):\n",
    "            vec = model[word] # getting the vector for each word\n",
    "            # here we are multiplying idf value(dictionary[word]) and the tf value((sentence.count(word)/len(sentence.split())))\n",
    "            tf_idf = dictionary_essay[word]*(sentence.count(word)/len(sentence.split())) # getting the tfidf value for each word\n",
    "            vector += (vec * tf_idf) # calculating tfidf weighted w2v\n",
    "            tf_idf_weight += tf_idf\n",
    "    if tf_idf_weight != 0:\n",
    "        vector /= tf_idf_weight\n",
    "    tfidf_w2v_vectors_cv_essay.append(vector)\n",
    "    \n",
    "for sentence in tqdm(X_test['essay'].values): # for each review/sentence\n",
    "    vector = np.zeros(300) # as word vectors are of zero length\n",
    "    tf_idf_weight =0; # num of words with a valid vector in the sentence/review\n",
    "    for word in sentence.split(): # for each word in a review/sentence\n",
    "        if (word in glove_words) and (word in tfidf_words_essay):\n",
    "            vec = model[word] # getting the vector for each word\n",
    "            # here we are multiplying idf value(dictionary[word]) and the tf value((sentence.count(word)/len(sentence.split())))\n",
    "            tf_idf = dictionary_essay[word]*(sentence.count(word)/len(sentence.split())) # getting the tfidf value for each word\n",
    "            vector += (vec * tf_idf) # calculating tfidf weighted w2v\n",
    "            tf_idf_weight += tf_idf\n",
    "    if tf_idf_weight != 0:\n",
    "        vector /= tf_idf_weight\n",
    "    tfidf_w2v_vectors_te_essay.append(vector)\n",
    "\n",
    "    \n",
    "# Apply TF-IDF W2V vectorization on 'Preprocessed_Title'\n",
    "\n",
    "tfidf_w2v_vectors_tr_title = []; # the avg-w2v for each sentence/review is stored in this list\n",
    "tfidf_w2v_vectors_cv_title = [];\n",
    "tfidf_w2v_vectors_te_title = [];\n",
    "\n",
    "for sentence in tqdm(X_train['titles'].values): # for each review/sentence\n",
    "    vector = np.zeros(300) # as word vectors are of zero length\n",
    "    tf_idf_weight =0; # num of words with a valid vector in the sentence/review\n",
    "    for word in sentence.split(): # for each word in a review/sentence\n",
    "        if (word in glove_words) and (word in tfidf_words_title):\n",
    "            vec = model[word] # getting the vector for each word\n",
    "            # here we are multiplying idf value(dictionary[word]) and the tf value((sentence.count(word)/len(sentence.split())))\n",
    "            tf_idf = dictionary_title[word]*(sentence.count(word)/len(sentence.split())) # getting the tfidf value for each word\n",
    "            vector += (vec * tf_idf) # calculating tfidf weighted w2v\n",
    "            tf_idf_weight += tf_idf\n",
    "    if tf_idf_weight != 0:\n",
    "        vector /= tf_idf_weight\n",
    "    tfidf_w2v_vectors_tr_title.append(vector)\n",
    "    \n",
    "for sentence in tqdm(X_cv['titles'].values): # for each review/sentence\n",
    "    vector = np.zeros(300) # as word vectors are of zero length\n",
    "    tf_idf_weight =0; # num of words with a valid vector in the sentence/review\n",
    "    for word in sentence.split(): # for each word in a review/sentence\n",
    "        if (word in glove_words) and (word in tfidf_words_title):\n",
    "            vec = model[word] # getting the vector for each word\n",
    "            # here we are multiplying idf value(dictionary[word]) and the tf value((sentence.count(word)/len(sentence.split())))\n",
    "            tf_idf = dictionary_title[word]*(sentence.count(word)/len(sentence.split())) # getting the tfidf value for each word\n",
    "            vector += (vec * tf_idf) # calculating tfidf weighted w2v\n",
    "            tf_idf_weight += tf_idf\n",
    "    if tf_idf_weight != 0:\n",
    "        vector /= tf_idf_weight\n",
    "    tfidf_w2v_vectors_cv_title.append(vector)\n",
    "    \n",
    "for sentence in tqdm(X_test['titles'].values): # for each review/sentence\n",
    "    vector = np.zeros(300) # as word vectors are of zero length\n",
    "    tf_idf_weight =0; # num of words with a valid vector in the sentence/review\n",
    "    for word in sentence.split(): # for each word in a review/sentence\n",
    "        if (word in glove_words) and (word in tfidf_words_title):\n",
    "            vec = model[word] # getting the vector for each word\n",
    "            # here we are multiplying idf value(dictionary[word]) and the tf value((sentence.count(word)/len(sentence.split())))\n",
    "            tf_idf = dictionary_title[word]*(sentence.count(word)/len(sentence.split())) # getting the tfidf value for each word\n",
    "            vector += (vec * tf_idf) # calculating tfidf weighted w2v\n",
    "            tf_idf_weight += tf_idf\n",
    "    if tf_idf_weight != 0:\n",
    "        vector /= tf_idf_weight\n",
    "    tfidf_w2v_vectors_te_title.append(vector)\n",
    "    \n",
    "\n",
    "print(len(tfidf_w2v_vectors_tr_essay))\n",
    "print(len(tfidf_w2v_vectors_cv_essay))\n",
    "print(len(tfidf_w2v_vectors_te_essay))\n",
    "print(len(tfidf_w2v_vectors_tr_essay[0]))\n",
    "\n"
   ]
  },
  {
   "cell_type": "code",
   "execution_count": 13,
   "metadata": {},
   "outputs": [],
   "source": [
    "def transform(x):\n",
    "    try:\n",
    "        n = tot_dict[x[0]]\n",
    "    except Exception as e:\n",
    "        print(e)\n",
    "        return 0.5\n",
    "    return dict_label_1[x[0]]/tot_dict[x[0]] if x[1] ==1 else dict_label_0[x[0]]/tot_dict[x[0]]"
   ]
  },
  {
   "cell_type": "code",
   "execution_count": 14,
   "metadata": {},
   "outputs": [],
   "source": [
    "# For School_state\n",
    "y_tr_df = pd.DataFrame(columns = ['label'],data = y_train)\n",
    "X_resp_df = pd.concat([X_train['school_state'].reset_index(),y_tr_df],axis = 1).reset_index()\n",
    "X_resp_df = X_resp_df[['school_state','label']]\n",
    "X_resp_df_1 = X_resp_df[X_resp_df['label'] == 1]\n",
    "X_resp_df_0 = X_resp_df[X_resp_df['label'] == 0]\n",
    "li = X_resp_df['school_state'].unique().tolist()\n",
    "tot_dict = dict(zip(li,[X_resp_df[X_resp_df['school_state']==x].shape[0] for x in li]))\n",
    "dict_label_1  = dict(zip(li,[X_resp_df_1[X_resp_df_1['school_state']==x].shape[0] for x in li]))\n",
    "dict_label_0  = dict(zip(li,[X_resp_df_0[X_resp_df_0['school_state']==x].shape[0] for x in li]))\n",
    "X_train_state_respcod = pd.DataFrame()\n",
    "X_train_state_respcod['school_state'] = X_resp_df.apply(lambda x : transform(x),axis = 1)\n",
    "\n",
    "y_cv_df = pd.DataFrame(columns = ['label'],data = y_cv)\n",
    "X_resp_df = pd.concat([X_cv['school_state'].reset_index(),y_cv_df],axis = 1).reset_index()\n",
    "X_resp_df = X_resp_df[['school_state','label']]\n",
    "\n",
    "X_cv_state_respcod = pd.DataFrame()\n",
    "X_cv_state_respcod['school_state'] = X_resp_df.apply(lambda x : transform(x),axis = 1)\n",
    "\n",
    "y_test_df = pd.DataFrame(columns = ['label'],data = y_test)\n",
    "X_resp_df = pd.concat([X_test['school_state'].reset_index(),y_test_df],axis = 1).reset_index()\n",
    "X_resp_df = X_resp_df[['school_state','label']]\n",
    "\n",
    "X_test_state_respcod = pd.DataFrame()\n",
    "X_test_state_respcod['school_state'] = X_resp_df.apply(lambda x : transform(x),axis = 1)"
   ]
  },
  {
   "cell_type": "code",
   "execution_count": 15,
   "metadata": {},
   "outputs": [],
   "source": [
    "# For teacher_prefix\n",
    "y_tr_df = pd.DataFrame(columns = ['label'],data = y_train)\n",
    "X_resp_df = pd.concat([X_train['teacher_prefix'].reset_index(),y_tr_df],axis = 1).reset_index()\n",
    "X_resp_df = X_resp_df[['teacher_prefix','label']]\n",
    "X_resp_df_1 = X_resp_df[X_resp_df['label'] == 1]\n",
    "X_resp_df_0 = X_resp_df[X_resp_df['label'] == 0]\n",
    "li = X_resp_df['teacher_prefix'].unique().tolist()\n",
    "tot_dict = dict(zip(li,[X_resp_df[X_resp_df['teacher_prefix']==x].shape[0] for x in li]))\n",
    "dict_label_1  = dict(zip(li,[X_resp_df_1[X_resp_df_1['teacher_prefix']==x].shape[0] for x in li]))\n",
    "dict_label_0  = dict(zip(li,[X_resp_df_0[X_resp_df_0['teacher_prefix']==x].shape[0] for x in li]))\n",
    "X_train_teacher_respcod = pd.DataFrame()\n",
    "X_train_teacher_respcod['teacher_prefix'] = X_resp_df.apply(lambda x : transform(x),axis = 1)\n",
    "\n",
    "y_cv_df = pd.DataFrame(columns = ['label'],data = y_cv)\n",
    "X_resp_df = pd.concat([X_cv['teacher_prefix'].reset_index(),y_cv_df],axis = 1).reset_index()\n",
    "X_resp_df = X_resp_df[['teacher_prefix','label']]\n",
    "\n",
    "X_cv_teacher_respcod = pd.DataFrame()\n",
    "X_cv_teacher_respcod['teacher_prefix'] = X_resp_df.apply(lambda x : transform(x),axis = 1)\n",
    "\n",
    "y_test_df = pd.DataFrame(columns = ['label'],data = y_test)\n",
    "X_resp_df = pd.concat([X_test['teacher_prefix'].reset_index(),y_test_df],axis = 1).reset_index()\n",
    "X_resp_df = X_resp_df[['teacher_prefix','label']]\n",
    "\n",
    "X_test_teacher_respcod = pd.DataFrame()\n",
    "X_test_teacher_respcod['teacher_prefix'] = X_resp_df.apply(lambda x : transform(x),axis = 1)"
   ]
  },
  {
   "cell_type": "code",
   "execution_count": 16,
   "metadata": {},
   "outputs": [],
   "source": [
    "y_tr_df = pd.DataFrame(columns = ['label'],data = y_train)\n",
    "X_resp_df = pd.concat([X_train['project_grade_category'].reset_index(),y_tr_df],axis = 1).reset_index()\n",
    "X_resp_df = X_resp_df[['project_grade_category','label']]\n",
    "X_resp_df_1 = X_resp_df[X_resp_df['label'] == 1]\n",
    "X_resp_df_0 = X_resp_df[X_resp_df['label'] == 0]\n",
    "li = X_resp_df['project_grade_category'].unique().tolist()\n",
    "tot_dict = dict(zip(li,[X_resp_df[X_resp_df['project_grade_category']==x].shape[0] for x in li]))\n",
    "dict_label_1  = dict(zip(li,[X_resp_df_1[X_resp_df_1['project_grade_category']==x].shape[0] for x in li]))\n",
    "dict_label_0  = dict(zip(li,[X_resp_df_0[X_resp_df_0['project_grade_category']==x].shape[0] for x in li]))\n",
    "X_train_grade_respcod = pd.DataFrame()\n",
    "X_train_grade_respcod['project_grade_category'] = X_resp_df.apply(lambda x : transform(x),axis = 1)\n",
    "\n",
    "y_cv_df = pd.DataFrame(columns = ['label'],data = y_cv)\n",
    "X_resp_df = pd.concat([X_cv['project_grade_category'].reset_index(),y_cv_df],axis = 1).reset_index()\n",
    "X_resp_df = X_resp_df[['project_grade_category','label']]\n",
    "\n",
    "X_cv_grade_respcod = pd.DataFrame()\n",
    "X_cv_grade_respcod['project_grade_category'] = X_resp_df.apply(lambda x : transform(x),axis = 1)\n",
    "\n",
    "y_test_df = pd.DataFrame(columns = ['label'],data = y_test)\n",
    "X_resp_df = pd.concat([X_test['project_grade_category'].reset_index(),y_test_df],axis = 1).reset_index()\n",
    "X_resp_df = X_resp_df[['project_grade_category','label']]\n",
    "\n",
    "X_test_grade_respcod = pd.DataFrame()\n",
    "X_test_grade_respcod['project_grade_category'] = X_resp_df.apply(lambda x : transform(x),axis = 1)"
   ]
  },
  {
   "cell_type": "code",
   "execution_count": 17,
   "metadata": {},
   "outputs": [
    {
     "name": "stdout",
     "output_type": "stream",
     "text": [
      "'music_arts warmth care_hunger'\n",
      "'music_arts warmth care_hunger'\n"
     ]
    }
   ],
   "source": [
    "y_tr_df = pd.DataFrame(columns = ['label'],data = y_train)\n",
    "X_resp_df = pd.concat([X_train['clean_categories'].reset_index(),y_tr_df],axis = 1).reset_index()\n",
    "X_resp_df = X_resp_df[['clean_categories','label']]\n",
    "X_resp_df_1 = X_resp_df[X_resp_df['label'] == 1]\n",
    "X_resp_df_0 = X_resp_df[X_resp_df['label'] == 0]\n",
    "li = X_resp_df['clean_categories'].unique().tolist()\n",
    "tot_dict = dict(zip(li,[X_resp_df[X_resp_df['clean_categories']==x].shape[0] for x in li]))\n",
    "dict_label_1  = dict(zip(li,[X_resp_df_1[X_resp_df_1['clean_categories']==x].shape[0] for x in li]))\n",
    "dict_label_0  = dict(zip(li,[X_resp_df_0[X_resp_df_0['clean_categories']==x].shape[0] for x in li]))\n",
    "X_train_clean_respcod = pd.DataFrame()\n",
    "X_train_clean_respcod['clean_categories'] = X_resp_df.apply(lambda x : transform(x),axis = 1)\n",
    "\n",
    "y_cv_df = pd.DataFrame(columns = ['label'],data = y_cv)\n",
    "X_resp_df = pd.concat([X_cv['clean_categories'].reset_index(),y_cv_df],axis = 1).reset_index()\n",
    "X_resp_df = X_resp_df[['clean_categories','label']]\n",
    "\n",
    "X_cv_clean_respcod = pd.DataFrame()\n",
    "X_cv_clean_respcod['clean_categories'] = X_resp_df.apply(lambda x : transform(x),axis = 1)\n",
    "\n",
    "y_test_df = pd.DataFrame(columns = ['label'],data = y_test)\n",
    "X_resp_df = pd.concat([X_test['clean_categories'].reset_index(),y_test_df],axis = 1).reset_index()\n",
    "X_resp_df = X_resp_df[['clean_categories','label']]\n",
    "\n",
    "X_test_clean_respcod = pd.DataFrame()\n",
    "X_test_clean_respcod['clean_categories'] = X_resp_df.apply(lambda x : transform(x),axis = 1)"
   ]
  },
  {
   "cell_type": "code",
   "execution_count": 18,
   "metadata": {},
   "outputs": [
    {
     "name": "stdout",
     "output_type": "stream",
     "text": [
      "'economics nutritioneducation'\n",
      "'earlydevelopment teamsports'\n",
      "'parentinvolvement performingarts'\n",
      "'earlydevelopment teamsports'\n",
      "'charactereducation financialliteracy'\n",
      "'college_careerprep teamsports'\n",
      "'visualarts warmth care_hunger'\n",
      "'extracurricular socialsciences'\n",
      "'earlydevelopment economics'\n",
      "'parentinvolvement warmth care_hunger'\n",
      "'parentinvolvement performingarts'\n",
      "'communityservice financialliteracy'\n",
      "'financialliteracy health_wellness'\n",
      "'esl teamsports'\n",
      "'parentinvolvement performingarts'\n",
      "'civics_government teamsports'\n",
      "'literacy warmth care_hunger'\n",
      "'civics_government teamsports'\n",
      "'extracurricular socialsciences'\n",
      "'communityservice music'\n",
      "'earlydevelopment teamsports'\n",
      "'financialliteracy foreignlanguages'\n",
      "'esl economics'\n",
      "'earlydevelopment economics'\n",
      "'financialliteracy health_wellness'\n",
      "'civics_government foreignlanguages'\n",
      "'charactereducation financialliteracy'\n",
      "'earlydevelopment teamsports'\n",
      "'literacy warmth care_hunger'\n",
      "'literacy warmth care_hunger'\n",
      "'college_careerprep teamsports'\n",
      "'parentinvolvement performingarts'\n",
      "'literature_writing nutritioneducation'\n",
      "'charactereducation financialliteracy'\n",
      "'charactereducation financialliteracy'\n",
      "'visualarts warmth care_hunger'\n",
      "'parentinvolvement performingarts'\n",
      "'literacy warmth care_hunger'\n",
      "'extracurricular socialsciences'\n",
      "'gym_fitness parentinvolvement'\n",
      "'charactereducation financialliteracy'\n",
      "'literacy warmth care_hunger'\n",
      "'economics music'\n",
      "'charactereducation financialliteracy'\n"
     ]
    }
   ],
   "source": [
    "y_tr_df = pd.DataFrame(columns = ['label'],data = y_train)\n",
    "X_resp_df = pd.concat([X_train['clean_subcategories'].reset_index(),y_tr_df],axis = 1).reset_index()\n",
    "X_resp_df = X_resp_df[['clean_subcategories','label']]\n",
    "X_resp_df_1 = X_resp_df[X_resp_df['label'] == 1]\n",
    "X_resp_df_0 = X_resp_df[X_resp_df['label'] == 0]\n",
    "li = X_resp_df['clean_subcategories'].unique().tolist()\n",
    "tot_dict = dict(zip(li,[X_resp_df[X_resp_df['clean_subcategories']==x].shape[0] for x in li]))\n",
    "dict_label_1  = dict(zip(li,[X_resp_df_1[X_resp_df_1['clean_subcategories']==x].shape[0] for x in li]))\n",
    "dict_label_0  = dict(zip(li,[X_resp_df_0[X_resp_df_0['clean_subcategories']==x].shape[0] for x in li]))\n",
    "X_train_clean_sub_respcod = pd.DataFrame()\n",
    "X_train_clean_sub_respcod['clean_subcategories'] = X_resp_df.apply(lambda x : transform(x),axis = 1)\n",
    "\n",
    "y_cv_df = pd.DataFrame(columns = ['label'],data = y_cv)\n",
    "X_resp_df = pd.concat([X_cv['clean_subcategories'].reset_index(),y_cv_df],axis = 1).reset_index()\n",
    "X_resp_df = X_resp_df[['clean_subcategories','label']]\n",
    "\n",
    "X_cv_clean_sub_respcod = pd.DataFrame()\n",
    "X_cv_clean_sub_respcod['clean_subcategories'] = X_resp_df.apply(lambda x : transform(x),axis = 1)\n",
    "\n",
    "y_test_df = pd.DataFrame(columns = ['label'],data = y_test)\n",
    "X_resp_df = pd.concat([X_test['clean_subcategories'].reset_index(),y_test_df],axis = 1).reset_index()\n",
    "X_resp_df = X_resp_df[['clean_subcategories','label']]\n",
    "\n",
    "X_test_clean_sub_respcod = pd.DataFrame()\n",
    "X_test_clean_sub_respcod['clean_subcategories'] = X_resp_df.apply(lambda x : transform(x),axis = 1)"
   ]
  },
  {
   "cell_type": "code",
   "execution_count": 19,
   "metadata": {},
   "outputs": [
    {
     "name": "stdout",
     "output_type": "stream",
     "text": [
      "After vectorizations\n",
      "(49041, 1) (49041,)\n",
      "(24155, 1) (24155,)\n",
      "(36052, 1) (36052,)\n",
      "====================================================================================================\n"
     ]
    }
   ],
   "source": [
    "from sklearn.preprocessing import Normalizer\n",
    "normalizer = Normalizer()\n",
    "\n",
    "normalizer.fit(X_train['price'].values.reshape(X_train.shape[0],1))\n",
    "\n",
    "X_train_price_norm = normalizer.transform(X_train['price'].values.reshape(X_train.shape[0],-1))\n",
    "X_cv_price_norm = normalizer.transform(X_cv['price'].values.reshape(X_cv.shape[0],-1))\n",
    "X_test_price_norm = normalizer.transform(X_test['price'].values.reshape(X_test.shape[0],-1))\n",
    "\n",
    "normalizer = Normalizer()\n",
    "\n",
    "normalizer.fit(X_train['teacher_number_of_previously_posted_projects'].values.reshape(X_train.shape[0],1))\n",
    "\n",
    "X_train_teacher_number_of_previously_posted_projects_norm = normalizer.transform(X_train['teacher_number_of_previously_posted_projects'].values.reshape(X_train.shape[0],-1))\n",
    "X_cv_teacher_number_of_previously_posted_projects_norm = normalizer.transform(X_cv['teacher_number_of_previously_posted_projects'].values.reshape(X_cv.shape[0],-1))\n",
    "X_test_teacher_number_of_previously_posted_projects_norm = normalizer.transform(X_test['teacher_number_of_previously_posted_projects'].values.reshape(X_test.shape[0],-1))\n",
    "\n",
    "numerical = ['Price','teacher_number_of_previously_posted_projects']\n",
    "\n",
    "print(\"After vectorizations\")\n",
    "print(X_train_price_norm.shape, y_train.shape)\n",
    "print(X_cv_price_norm.shape, y_cv.shape)\n",
    "print(X_test_price_norm.shape, y_test.shape)\n",
    "print(\"=\"*100)"
   ]
  },
  {
   "cell_type": "code",
   "execution_count": 20,
   "metadata": {},
   "outputs": [
    {
     "name": "stdout",
     "output_type": "stream",
     "text": [
      "Final Data matrix\n",
      "(49041, 14200) (49041,)\n",
      "(24155, 14200) (24155,)\n",
      "(36052, 14200) (36052,)\n",
      "====================================================================================================\n"
     ]
    }
   ],
   "source": [
    "# Perform Hyperparameter Tuning.\n",
    "# Plot the training and the CV AUC scores, for different values of 'alpha', using a 2D line plot\n",
    "from scipy.sparse import hstack\n",
    "import matplotlib.pyplot as plt\n",
    "from sklearn.metrics import roc_auc_score\n",
    "\n",
    "X_tr = hstack((X_train_essay_tfidf, X_train_titles_tfidf, X_train_state_respcod, X_train_teacher_respcod, X_train_grade_respcod,X_train_clean_respcod,X_train_clean_sub_respcod, X_train_price_norm,X_train_teacher_number_of_previously_posted_projects_norm,sentiment_data_list[0])).tocsr()\n",
    "X_cr = hstack((X_cv_essay_tfidf,X_cv_titles_tfidf, X_cv_state_respcod, X_cv_teacher_respcod, X_cv_grade_respcod,X_cv_clean_respcod,X_cv_clean_sub_respcod, X_cv_price_norm,X_cv_teacher_number_of_previously_posted_projects_norm,sentiment_data_list[1])).tocsr()\n",
    "X_te = hstack((X_test_essay_tfidf,X_test_titles_tfidf, X_test_state_respcod, X_test_teacher_respcod, X_test_grade_respcod,X_test_clean_respcod,X_test_clean_sub_respcod, X_test_price_norm,X_test_teacher_number_of_previously_posted_projects_norm,sentiment_data_list[2])).tocsr()\n",
    "\n",
    "print(\"Final Data matrix\")\n",
    "print(X_tr.shape, y_train.shape)\n",
    "print(X_cr.shape, y_cv.shape)\n",
    "print(X_te.shape, y_test.shape)\n",
    "print(\"=\"*100)\n",
    "\n"
   ]
  },
  {
   "cell_type": "markdown",
   "metadata": {
    "colab_type": "text",
    "id": "vsALgl5Asc3u"
   },
   "source": [
    "<h2>1.3 Make Data Model Ready: encoding eassay, and project_title</h2>"
   ]
  },
  {
   "cell_type": "code",
   "execution_count": 0,
   "metadata": {
    "colab": {},
    "colab_type": "code",
    "id": "1A_85jbWsc3v"
   },
   "outputs": [],
   "source": [
    "# please write all the code with proper documentation, and proper titles for each subsection\n",
    "# go through documentations and blogs before you start coding\n",
    "# first figure out what to do, and then think about how to do.\n",
    "# reading and understanding error messages will be very much helpfull in debugging your code\n",
    "# make sure you featurize train and test data separatly\n",
    "\n",
    "# when you plot any graph make sure you use \n",
    "    # a. Title, that describes your plot, this will be very helpful to the reader\n",
    "    # b. Legends if needed\n",
    "    # c. X-axis label\n",
    "    # d. Y-axis label\n",
    "    \n"
   ]
  },
  {
   "cell_type": "markdown",
   "metadata": {
    "colab_type": "text",
    "id": "S3Vxxv2Hsc31"
   },
   "source": [
    "<h2>1.4 Make Data Model Ready: encoding numerical, categorical features</h2>"
   ]
  },
  {
   "cell_type": "code",
   "execution_count": 0,
   "metadata": {
    "colab": {},
    "colab_type": "code",
    "id": "RAtihVPqsc33"
   },
   "outputs": [],
   "source": [
    "# please write all the code with proper documentation, and proper titles for each subsection\n",
    "# go through documentations and blogs before you start coding \n",
    "# first figure out what to do, and then think about how to do.\n",
    "# reading and understanding error messages will be very much helpfull in debugging your code\n",
    "# make sure you featurize train and test data separatly\n",
    "\n",
    "# when you plot any graph make sure you use \n",
    "    # a. Title, that describes your plot, this will be very helpful to the reader\n",
    "    # b. Legends if needed\n",
    "    # c. X-axis label\n",
    "    # d. Y-axis label"
   ]
  },
  {
   "cell_type": "markdown",
   "metadata": {
    "colab_type": "text",
    "id": "I5wDFj17sc3-"
   },
   "source": [
    "<h2>1.5 Appling Models on different kind of featurization as mentioned in the instructions</h2>"
   ]
  },
  {
   "cell_type": "markdown",
   "metadata": {
    "colab_type": "text",
    "id": "O5tWox1jsc3_"
   },
   "source": [
    "<br>Apply GBDT on different kind of featurization as mentioned in the instructions\n",
    "<br> For Every model that you work on make sure you do the step 2 and step 3 of instrucations"
   ]
  },
  {
   "cell_type": "code",
   "execution_count": 21,
   "metadata": {
    "colab": {},
    "colab_type": "code",
    "id": "ARWulYUwsc4B"
   },
   "outputs": [
    {
     "name": "stderr",
     "output_type": "stream",
     "text": [
      "100%|██████████| 6/6 [00:21<00:00,  3.63s/it]\n",
      "100%|██████████| 6/6 [00:47<00:00,  7.87s/it]\n",
      "100%|██████████| 6/6 [04:25<00:00, 44.33s/it]\n",
      "100%|██████████| 6/6 [07:08<00:00, 71.40s/it]\n",
      "100%|██████████| 6/6 [09:04<00:00, 90.67s/it]\n",
      "100%|██████████| 6/6 [18:04<00:00, 180.68s/it]\n"
     ]
    }
   ],
   "source": [
    "# please write all the code with proper documentation, and proper titles for each subsection\n",
    "# go through documentations and blogs before you start coding\n",
    "# first figure out what to do, and then think about how to do.\n",
    "# reading and understanding error messages will be very much helpfull in debugging your code\n",
    "# when you plot any graph make sure you use \n",
    "    # a. Title, that describes your plot, this will be very helpful to the reader\n",
    "    # b. Legends if needed\n",
    "    # c. X-axis label\n",
    "    # d. Y-axis label\n",
    "from sklearn.ensemble import GradientBoostingClassifier\n",
    "\n",
    "train_auc = []\n",
    "cv_auc = []\n",
    "learning_rate = [0.0001, 0.001, 0.01, 0.1, 0.2, 0.3]\n",
    "depth = [1, 3, 10, 30]\n",
    "estimators=[5,10,50, 75, 100, 200]\n",
    "#learning = [0.001,0.01,0.1,1,10]\n",
    "for j in estimators:\n",
    "    for i in tqdm(learning_rate):\n",
    "        clf = GradientBoostingClassifier(n_estimators=j, learning_rate=i)\n",
    "        clf.fit(X_tr,y_train)\n",
    "        y_train_pred = clf.predict_proba(X_tr)[:,1]\n",
    "\n",
    "        y_cv_pred = clf.predict_proba(X_cr)[:,1]\n",
    "        train_auc.append(roc_auc_score(y_train,y_train_pred))\n",
    "        cv_auc.append(roc_auc_score(y_cv, y_cv_pred))   "
   ]
  },
  {
   "cell_type": "code",
   "execution_count": 22,
   "metadata": {},
   "outputs": [
    {
     "data": {
      "text/plain": [
       "array([1., 1., 1., ..., 1., 1., 1.])"
      ]
     },
     "execution_count": 22,
     "metadata": {},
     "output_type": "execute_result"
    }
   ],
   "source": [
    "y_train_pred"
   ]
  },
  {
   "cell_type": "code",
   "execution_count": 23,
   "metadata": {},
   "outputs": [
    {
     "data": {
      "image/png": "[encoded data removed]",
      "text/plain": [
       "<Figure size 720x720 with 2 Axes>"
      ]
     },
     "metadata": {
      "needs_background": "light"
     },
     "output_type": "display_data"
    }
   ],
   "source": [
    "counter = 0\n",
    "d = pd.DataFrame(columns = ['c_val','sol','score'])\n",
    "for i in learning_rate:\n",
    "    for j in estimators:\n",
    "        d.loc[counter,'score'] = train_auc[counter]\n",
    "        d.loc[counter,'c_val'] = i\n",
    "        d.loc[counter,'sol'] = j\n",
    "        counter+=1\n",
    "d = d.astype(np.float64)\n",
    "result = d.pivot(index='c_val', columns='sol', values='score')\n",
    "fig, ax = plt.subplots(figsize=(10,10))\n",
    "sns.heatmap(result, annot=True,ax=ax)\n",
    "\n",
    "plt.show()"
   ]
  },
  {
   "cell_type": "code",
   "execution_count": 24,
   "metadata": {},
   "outputs": [
    {
     "name": "stdout",
     "output_type": "stream",
     "text": [
      "Fitting 3 folds for each of 36 candidates, totalling 108 fits\n"
     ]
    },
    {
     "name": "stderr",
     "output_type": "stream",
     "text": [
      "[Parallel(n_jobs=-1)]: Using backend LokyBackend with 8 concurrent workers.\n",
      "[Parallel(n_jobs=-1)]: Done  34 tasks      | elapsed:  6.5min\n",
      "[Parallel(n_jobs=-1)]: Done 108 out of 108 | elapsed: 21.6min finished\n"
     ]
    }
   ],
   "source": [
    "from sklearn.model_selection import GridSearchCV\n",
    "from scipy.stats import randint as sp_randint\n",
    "from sklearn.model_selection import RandomizedSearchCV\n",
    "\n",
    "neigh = GradientBoostingClassifier()\n",
    "parameters = {'learning_rate' : [0.0001, 0.001, 0.01, 0.1, 0.2, 0.3],'n_estimators' : [5,10,50, 75, 100, 200]}\n",
    "clf = GridSearchCV(neigh, parameters, cv=3, scoring='roc_auc',n_jobs = -1,verbose = True)\n",
    "clf.fit(X_tr, y_train)\n",
    "\n",
    "results = pd.DataFrame.from_dict(clf.cv_results_)"
   ]
  },
  {
   "cell_type": "code",
   "execution_count": 25,
   "metadata": {},
   "outputs": [
    {
     "data": {
      "text/plain": [
       "{'learning_rate': 0.0001, 'n_estimators': 5}"
      ]
     },
     "execution_count": 25,
     "metadata": {},
     "output_type": "execute_result"
    }
   ],
   "source": [
    "clf.best_params_"
   ]
  },
  {
   "cell_type": "code",
   "execution_count": 26,
   "metadata": {},
   "outputs": [],
   "source": [
    "clf = GradientBoostingClassifier(learning_rate=0.0001,n_estimators=5)\n",
    "clf.fit(X_tr, y_train)\n",
    "from scipy.sparse import vstack\n",
    "y_tr_pred = clf.predict_proba(vstack((X_tr,X_cr)).tocsr())[:,1]\n",
    "y_test_pred = clf.predict_proba(X_te)[:,1]\n"
   ]
  },
  {
   "cell_type": "code",
   "execution_count": 27,
   "metadata": {},
   "outputs": [
    {
     "data": {
      "image/png": "[encoded data removed]",
      "text/plain": [
       "<Figure size 432x288 with 1 Axes>"
      ]
     },
     "metadata": {
      "needs_background": "light"
     },
     "output_type": "display_data"
    }
   ],
   "source": [
    "train_fpr, train_tpr, tr_thresholds = roc_curve(np.concatenate((y_train,y_cv),axis=0), y_tr_pred)\n",
    "test_fpr, test_tpr, te_thresholds = roc_curve(y_test, y_test_pred)\n",
    "\n",
    "plt.plot(train_fpr, train_tpr, label=\"train AUC =\"+str(auc(train_fpr, train_tpr)))\n",
    "plt.plot(test_fpr, test_tpr, label=\"test AUC =\"+str(auc(test_fpr, test_tpr)))\n",
    "plt.legend()\n",
    "plt.xlabel(\"FPR\")\n",
    "plt.ylabel(\"TPR\")\n",
    "plt.title(\"ERROR PLOTS\")\n",
    "plt.grid()\n",
    "plt.show()"
   ]
  },
  {
   "cell_type": "code",
   "execution_count": 224,
   "metadata": {},
   "outputs": [],
   "source": [
    "y_te_pred = clf.predict(X_te)"
   ]
  },
  {
   "cell_type": "code",
   "execution_count": 225,
   "metadata": {},
   "outputs": [
    {
     "data": {
      "image/png": "[encoded data removed]",
      "text/plain": [
       "<Figure size 432x288 with 2 Axes>"
      ]
     },
     "metadata": {
      "needs_background": "light"
     },
     "output_type": "display_data"
    }
   ],
   "source": [
    "tn = 0\n",
    "fn = 0\n",
    "fp = 0\n",
    "tp = 0\n",
    "for i,j in zip(y_test,y_te_pred):\n",
    "    if(i == j and i ==0):\n",
    "        tn+=1\n",
    "    elif(i ==j and i==1):\n",
    "        tp+=1\n",
    "    elif(i!=j and j==1):\n",
    "        fp+=1\n",
    "    elif(i!=j and j ==0):\n",
    "        fn+=1\n",
    "\n",
    "n = np.array([tn,fp,fn,tp])\n",
    "n = n.reshape(-1,2)\n",
    "\n",
    "ax= plt.subplot()\n",
    "sns.heatmap(n, annot=True, fmt='g'); \n",
    "\n",
    "# labels, title and ticks\n",
    "ax.set_xlabel('Predicted labels');ax.set_ylabel('True labels'); \n",
    "ax.set_title('Confusion Matrix'); \n",
    "ax.xaxis.set_ticklabels([0, 1]); ax.yaxis.set_ticklabels([0, 1]);"
   ]
  },
  {
   "cell_type": "code",
   "execution_count": 226,
   "metadata": {},
   "outputs": [
    {
     "name": "stdout",
     "output_type": "stream",
     "text": [
      "Final Data matrix\n",
      "(49041, 611) (49041,)\n",
      "(24155, 611) (24155,)\n",
      "(36052, 611) (36052,)\n",
      "====================================================================================================\n"
     ]
    }
   ],
   "source": [
    "#Task2\n",
    "from scipy.sparse import hstack\n",
    "import matplotlib.pyplot as plt\n",
    "from sklearn.metrics import roc_auc_score\n",
    "\n",
    "X_tr = hstack((tfidf_w2v_vectors_tr_essay, tfidf_w2v_vectors_tr_title, X_train_state_respcod, X_train_teacher_respcod, X_train_grade_respcod,X_train_clean_respcod,X_train_clean_sub_respcod, X_train_price_norm,X_train_teacher_number_of_previously_posted_projects_norm,sentiment_data_list[0])).tocsr()\n",
    "X_cr = hstack((tfidf_w2v_vectors_cv_essay,tfidf_w2v_vectors_cv_title, X_cv_state_respcod, X_cv_teacher_respcod, X_cv_grade_respcod,X_cv_clean_respcod,X_cv_clean_sub_respcod, X_cv_price_norm,X_cv_teacher_number_of_previously_posted_projects_norm,sentiment_data_list[1])).tocsr()\n",
    "X_te = hstack((tfidf_w2v_vectors_te_essay,tfidf_w2v_vectors_te_title, X_test_state_respcod, X_test_teacher_respcod, X_test_grade_respcod,X_test_clean_respcod,X_test_clean_sub_respcod, X_test_price_norm,X_test_teacher_number_of_previously_posted_projects_norm,sentiment_data_list[2])).tocsr()\n",
    "\n",
    "print(\"Final Data matrix\")\n",
    "print(X_tr.shape, y_train.shape)\n",
    "print(X_cr.shape, y_cv.shape)\n",
    "print(X_te.shape, y_test.shape)\n",
    "print(\"=\"*100)\n",
    "\n"
   ]
  },
  {
   "cell_type": "code",
   "execution_count": 229,
   "metadata": {},
   "outputs": [
    {
     "name": "stdout",
     "output_type": "stream",
     "text": [
      "Fitting 3 folds for each of 16 candidates, totalling 48 fits\n"
     ]
    },
    {
     "name": "stderr",
     "output_type": "stream",
     "text": [
      "[Parallel(n_jobs=-1)]: Using backend LokyBackend with 8 concurrent workers.\n",
      "[Parallel(n_jobs=-1)]: Done  48 out of  48 | elapsed: 10.9min finished\n"
     ]
    }
   ],
   "source": [
    "from sklearn.model_selection import GridSearchCV\n",
    "from scipy.stats import randint as sp_randint\n",
    "from sklearn.model_selection import RandomizedSearchCV\n",
    "\n",
    "neigh = GradientBoostingClassifier()\n",
    "parameters = {'max_depth' : [1, 3, 10, 30],'n_estimators' : [5, 10,15,20]}\n",
    "clf = GridSearchCV(neigh, parameters, cv=3, scoring='roc_auc',n_jobs = -1,verbose = True)\n",
    "clf.fit(X_tr, y_train)\n",
    "\n",
    "results = pd.DataFrame.from_dict(clf.cv_results_)"
   ]
  },
  {
   "cell_type": "code",
   "execution_count": 230,
   "metadata": {},
   "outputs": [
    {
     "data": {
      "text/plain": [
       "{'max_depth': 1, 'n_estimators': 5}"
      ]
     },
     "execution_count": 230,
     "metadata": {},
     "output_type": "execute_result"
    }
   ],
   "source": [
    "clf.best_params_"
   ]
  },
  {
   "cell_type": "code",
   "execution_count": 231,
   "metadata": {},
   "outputs": [],
   "source": [
    "clf = GradientBoostingClassifier(max_depth=1,n_estimators=5)\n",
    "clf.fit(X_tr, y_train)\n",
    "from scipy.sparse import vstack\n",
    "y_tr_pred = clf.predict_proba(vstack((X_tr,X_cr)).tocsr())[:,1]\n",
    "y_test_pred = clf.predict_proba(X_te)[:,1]\n"
   ]
  },
  {
   "cell_type": "code",
   "execution_count": 232,
   "metadata": {},
   "outputs": [
    {
     "data": {
      "image/png": "[encoded data removed]",
      "text/plain": [
       "<Figure size 432x288 with 1 Axes>"
      ]
     },
     "metadata": {
      "needs_background": "light"
     },
     "output_type": "display_data"
    }
   ],
   "source": [
    "train_fpr, train_tpr, tr_thresholds = roc_curve(np.concatenate((y_train,y_cv),axis=0), y_tr_pred)\n",
    "test_fpr, test_tpr, te_thresholds = roc_curve(y_test, y_test_pred)\n",
    "\n",
    "plt.plot(train_fpr, train_tpr, label=\"train AUC =\"+str(auc(train_fpr, train_tpr)))\n",
    "plt.plot(test_fpr, test_tpr, label=\"test AUC =\"+str(auc(test_fpr, test_tpr)))\n",
    "plt.legend()\n",
    "plt.xlabel(\"FPR\")\n",
    "plt.ylabel(\"TPR\")\n",
    "plt.title(\"ERROR PLOTS\")\n",
    "plt.grid()\n",
    "plt.show()"
   ]
  },
  {
   "cell_type": "code",
   "execution_count": 233,
   "metadata": {},
   "outputs": [
    {
     "data": {
      "image/png": "[encoded data removed]",
      "text/plain": [
       "<Figure size 432x288 with 2 Axes>"
      ]
     },
     "metadata": {
      "needs_background": "light"
     },
     "output_type": "display_data"
    }
   ],
   "source": [
    "tn = 0\n",
    "fn = 0\n",
    "fp = 0\n",
    "tp = 0\n",
    "for i,j in zip(y_test,y_te_pred):\n",
    "    if(i == j and i ==0):\n",
    "        tn+=1\n",
    "    elif(i ==j and i==1):\n",
    "        tp+=1\n",
    "    elif(i!=j and j==1):\n",
    "        fp+=1\n",
    "    elif(i!=j and j ==0):\n",
    "        fn+=1\n",
    "\n",
    "n = np.array([tn,fp,fn,tp])\n",
    "n = n.reshape(-1,2)\n",
    "\n",
    "ax= plt.subplot()\n",
    "sns.heatmap(n, annot=True, fmt='g'); \n",
    "\n",
    "# labels, title and ticks\n",
    "ax.set_xlabel('Predicted labels');ax.set_ylabel('True labels'); \n",
    "ax.set_title('Confusion Matrix'); \n",
    "ax.xaxis.set_ticklabels([0, 1]); ax.yaxis.set_ticklabels([0, 1]);"
   ]
  },
  {
   "cell_type": "code",
   "execution_count": 235,
   "metadata": {},
   "outputs": [
    {
     "name": "stdout",
     "output_type": "stream",
     "text": [
      "+------------+-------+-----------------+-----+\n",
      "| Vectorizer | Model | Hyper Parameter | AUC |\n",
      "+------------+-------+-----------------+-----+\n",
      "|   TFIDF    | BRUTE |        2        |  1  |\n",
      "|  TFIDFW2V  | BRUTE |        2        |  1  |\n",
      "+------------+-------+-----------------+-----+\n"
     ]
    }
   ],
   "source": [
    "from prettytable import PrettyTable\n",
    "x = PrettyTable()\n",
    "x.field_names = [\"Vectorizer\", \"Model\", \"Hyper Parameter\", \"AUC\"]\n",
    "\n",
    "x.add_row(['TFIDF','BRUTE',2,1])\n",
    "\n",
    "x.add_row(['TFIDFW2V','BRUTE',2,1])\n",
    "print(x)"
   ]
  },
  {
   "cell_type": "markdown",
   "metadata": {
    "colab_type": "text",
    "id": "YhFN-lDWsc4G"
   },
   "source": [
    "<h1>3. Summary</h1>\n",
    "\n",
    "<br> as mentioned in the step 4 of instructions"
   ]
  }
 ],
 "metadata": {
  "colab": {
   "collapsed_sections": [],
   "name": "11_Assignment_GBDT_Instructions.ipynb",
   "provenance": [],
   "version": "0.3.2"
  },
  "kernelspec": {
   "display_name": "Python 3 (ipykernel)",
   "language": "python",
   "name": "python3"
  },
  "language_info": {
   "codemirror_mode": {
    "name": "ipython",
    "version": 3
   },
   "file_extension": ".py",
   "mimetype": "text/x-python",
   "name": "python",
   "nbconvert_exporter": "python",
   "pygments_lexer": "ipython3",
   "version": "3.8.5"
  }
 },
 "nbformat": 4,
 "nbformat_minor": 1
}
