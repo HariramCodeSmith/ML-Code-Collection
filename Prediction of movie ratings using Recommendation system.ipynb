{
 "cells": [
  {
   "cell_type": "markdown",
   "metadata": {
    "id": "YeM0ZBWUVtXR"
   },
   "source": [
    "# <font color='red'>SGD Algorithm to predict movie ratings</font>"
   ]
  },
  {
   "cell_type": "markdown",
   "metadata": {
    "id": "M2vyJqSlmmjM"
   },
   "source": [
    "**There will be some functions that start with the word \"grader\" ex: grader_matrix(), grader_mean(), grader_dim() etc, you should not change those function definition.<br><br>Every Grader function has to return True.**"
   ]
  },
  {
   "cell_type": "markdown",
   "metadata": {
    "id": "AL6njTf8WBO0"
   },
   "source": [
    "<pre>\n",
    "1. Download the data from <a href='https://drive.google.com/open?id=1-1z7iDB52cB6_JpO7Dqa-eOYSs-mivpq'> here </a>\n",
    "2. The data will be of this format, each data point is represented as a triplet of user_id, movie_id and rating \n",
    "<table>\n",
    "<tr><th>user_id</th><th>movie_id</th><th>rating</th></tr>\n",
    "<tr><td>77</td><td>236</td><td>3</td></tr>\n",
    "<tr><td>471</td><td>208</td><td>5</td></tr>\n",
    "<tr><td>641</td><td>401</td><td>4</td></tr>\n",
    "<tr><td>31</td><td>298</td><td>4</td></tr>\n",
    "<tr><td>58</td><td>504</td><td>5</td></tr>\n",
    "<tr><td>235</td><td>727</td><td>5</td></tr>\n",
    "</table>"
   ]
  },
  {
   "cell_type": "markdown",
   "metadata": {
    "id": "73dhFsT0WSSB"
   },
   "source": [
    "## <font color='red'>Task 1</font>"
   ]
  },
  {
   "cell_type": "markdown",
   "metadata": {
    "id": "HY0frS6EWaEV"
   },
   "source": [
    "<font color='red'><b>Predict the rating for a given (user_id, movie_id) pair </b> </font>\n"
   ]
  },
  {
   "cell_type": "markdown",
   "metadata": {
    "id": "R-ISYxaVbT8L"
   },
   "source": [
    "Predicted rating $\\hat{y}_{ij}$ for user i, movied j pair is calcuated as $\\hat{y}_{ij} = \\mu + b_i + c_j + u_i^T v_j$ , here we will be finding the best values of $b_{i}$ and $c_{j}$ using SGD algorithm with the optimization problem for N users and M movies is defined as"
   ]
  },
  {
   "cell_type": "markdown",
   "metadata": {
    "id": "8Aj8SXeQWlZd"
   },
   "source": [
    "$$\n",
    "L = \\min_{ b, c, \\{ u_i \\}_{i=1}^N, \\{ v_j \\}_{j=1}^M}\n",
    "\\quad\n",
    "\\alpha \\Big(\n",
    "    \\sum_{j} \\sum_{k} v_{jk}^2 \n",
    "    + \\sum_{i} \\sum_{k} u_{ik}^2 \n",
    "    + \\sum_{i} b_i^2\n",
    "    + \\sum_{j} c_i^2\n",
    "    \\Big)\n",
    "+ \\sum_{i,j \\in \\mathcal{I}^{\\text{train}}}\n",
    "    (y_{ij} - \\mu - b_i - c_j - u_i^T v_j)^2\n",
    "$$"
   ]
  },
  {
   "cell_type": "markdown",
   "metadata": {
    "id": "2Q5bnWyZXrM7"
   },
   "source": [
    "<ul>\n",
    "<li><span class=\"math\">\\(\\mu\\)</span> : scalar mean rating</li>\n",
    "<li><span class=\"math\">\\(b_i\\)</span> : scalar bias term for user <span class=\"math\">\\(i\\)</span></li>\n",
    "<li><span class=\"math\">\\(c_j\\)</span> : scalar bias term for movie <span class=\"math\">\\(j\\)</span></li>\n",
    "<li><span class=\"math\">\\(u_i\\)</span> : K-dimensional vector for user <span class=\"math\">\\(i\\)</span></li>\n",
    "<li><span class=\"math\">\\(v_j\\)</span> : K-dimensional vector for movie <span class=\"math\">\\(j\\)</span></li>\n",
    "</ul>\n",
    "\n",
    " $ \\ $\n"
   ]
  },
  {
   "cell_type": "markdown",
   "metadata": {
    "id": "q1cf4CunbEr4"
   },
   "source": [
    "\n",
    "\n",
    "\n",
    "*.  We will be giving you some functions, please write code in that functions only.\n",
    "\n",
    "*.  After every function, we will be giving you expected output, please make sure that you get that output. \n",
    "\n",
    "\n",
    "\n"
   ]
  },
  {
   "cell_type": "markdown",
   "metadata": {
    "id": "ZWQyB5hfy3u7"
   },
   "source": [
    "1. Construct adjacency matrix with the given data, assuming its graph and the weight of each edge is the rating given by user to the movie\n",
    "\n",
    "<img src='https://i.imgur.com/rmUCGMb.jpg' width=200>\n",
    "\n",
    "   you can construct this matrix like $A[i][j]=r_{ij}$ here $i$ is user_id, $j$ is movie_id and $r_{ij}$ is rating given by user $i$ to the movie $j$\n",
    "\n",
    "   Hint : you can create adjacency matrix using <a href='https://docs.scipy.org/doc/scipy/reference/generated/scipy.sparse.csr_matrix.html'> csr_matrix</a>\n",
    "\n",
    "2. We will Apply SVD decomposition on the Adjaceny matrix <a href='https://stackoverflow.com/a/31528944/4084039'>link1</a>, <a href='https://machinelearningmastery.com/singular-value-decomposition-for-machine-learning/'> link2</a> and get three matrices $U, \\sum, V$ such that $U \\times \\sum \\times V^T = A$, <br> \n",
    "if $A$ is of dimensions $N \\times M$ then <br>\n",
    "U is of $N \\times k$, <br>\n",
    "$\\sum$ is of $k \\times k$ and <br>\n",
    "$V$ is $M \\times k$ dimensions. <br>\n",
    "\n",
    "   *.  So the matrix $U$ can be represented as matrix representation of users, where each row $u_{i}$ represents a k-dimensional vector for a user\n",
    "\n",
    "   *. So the matrix $V$ can be represented as matrix representation of movies, where each row $v_{j}$ represents a k-dimensional vector for a movie.\n",
    "3. Compute $\\mu$ , $\\mu$  represents the mean of all the rating given in the dataset.(write your code in <font color='blue'>def m_u()</font>)\n",
    "4. For each unique user initilize a bias value $B_{i}$ to zero, so if we have $N$ users $B$ will be a $N$ dimensional vector, the $i^{th}$ value of the $B$ will corresponds to the bias term for $i^{th}$ user (write your code in <font color='blue'>def initialize()</font>)\n",
    "\n",
    "5. For each unique movie initilize a bias value $C_{j}$ zero, so if we have $M$ movies $C$ will be a $M$ dimensional vector, the $j^{th}$ value of the $C$ will corresponds to the bias term for $j^{th}$ movie (write your code in <font color='blue'>def initialize()</font>)\n",
    "\n",
    "6. Compute dL/db_i (Write you code in <font color='blue'> def derivative_db()</font>)\n",
    "7. Compute dL/dc_j(write your code in <font color='blue'> def derivative_dc()</font>\n",
    "\n",
    "8. Print the mean squared error with predicted ratings.\n",
    "\n",
    "<pre>\n",
    "for each epoch:\n",
    "    for each pair of (user, movie):\n",
    "        b_i =  b_i - learning_rate * dL/db_i\n",
    "        c_j =  c_j - learning_rate * dL/dc_j\n",
    "predict the ratings with formula\n",
    "</pre>\n",
    "$\\hat{y}_{ij} = \\mu + b_i + c_j + \\text{dot_product}(u_i , v_j) $\n",
    "\n",
    "9. you can choose any learning rate and regularization term in the range $10^{-3}  \\text{ to } 10^2$  <br>\n",
    "  \n",
    "10. __bonus__: instead of using SVD decomposition you can learn the vectors $u_i$, $v_j$ with the help of SGD algo similar to $b_i$ and $c_j$ "
   ]
  },
  {
   "cell_type": "code",
   "execution_count": null,
   "metadata": {
    "id": "VlPVJoZ8JN4P"
   },
   "outputs": [],
   "source": []
  },
  {
   "cell_type": "code",
   "execution_count": null,
   "metadata": {
    "id": "Q2XrlYeuJOFq"
   },
   "outputs": [],
   "source": []
  },
  {
   "cell_type": "markdown",
   "metadata": {
    "id": "3-aBnRepA6gy"
   },
   "source": [
    "<br>"
   ]
  },
  {
   "cell_type": "markdown",
   "metadata": {
    "id": "IP_6xMAZA4mE"
   },
   "source": [
    " # <font color='red'>Task 2 </font>"
   ]
  },
  {
   "cell_type": "markdown",
   "metadata": {
    "id": "-9HCN_3WA2au"
   },
   "source": [
    "As we know U is the learned matrix of user vectors, with its i-th row as the vector ui for user i. Each row of U can be seen as a \"feature vector\" for a particular user.\n",
    "\n",
    "The question we'd like to investigate is this: do our computed per-user features that are optimized for predicting movie ratings contain anything to do with gender?\n",
    "\n",
    "The provided data file <a href='https://drive.google.com/open?id=1PHFdJh_4gIPiLH5Q4UErH8GK71hTrzlY'>user_info.csv</a> contains an is_male column indicating which users in the dataset are male. Can you predict this signal given the features U?\n",
    "\n",
    "\n",
    "> __Note 1__ : there is no train test split in the data, the goal of this assignment is to give an intution about how to do matrix factorization with the help of SGD and application of truncated SVD. for better understanding of the collabarative fillerting please check netflix case study. <br><br>\n",
    "> __Note 2__ : Check if scaling of $U$, $V$ matrices improve the metric "
   ]
  },
  {
   "cell_type": "markdown",
   "metadata": {
    "id": "ovFCo1JCBIXM"
   },
   "source": [
    "<br>\n",
    "\n",
    "\n",
    "<br>"
   ]
  },
  {
   "cell_type": "markdown",
   "metadata": {
    "id": "iVJo-3njBQLf"
   },
   "source": [
    "<font color='red'> Reading the csv file </font>"
   ]
  },
  {
   "cell_type": "code",
   "execution_count": 155,
   "metadata": {
    "colab": {
     "base_uri": "https://localhost:8080/",
     "height": 195
    },
    "id": "hEhmfRD637EW",
    "outputId": "07189bd2-eb44-43c7-f225-022cc41d0ee6"
   },
   "outputs": [
    {
     "data": {
      "text/html": [
       "<div>\n",
       "<style scoped>\n",
       "    .dataframe tbody tr th:only-of-type {\n",
       "        vertical-align: middle;\n",
       "    }\n",
       "\n",
       "    .dataframe tbody tr th {\n",
       "        vertical-align: top;\n",
       "    }\n",
       "\n",
       "    .dataframe thead th {\n",
       "        text-align: right;\n",
       "    }\n",
       "</style>\n",
       "<table border=\"1\" class=\"dataframe\">\n",
       "  <thead>\n",
       "    <tr style=\"text-align: right;\">\n",
       "      <th></th>\n",
       "      <th>user_id</th>\n",
       "      <th>item_id</th>\n",
       "      <th>rating</th>\n",
       "    </tr>\n",
       "  </thead>\n",
       "  <tbody>\n",
       "    <tr>\n",
       "      <th>0</th>\n",
       "      <td>772</td>\n",
       "      <td>36</td>\n",
       "      <td>3</td>\n",
       "    </tr>\n",
       "    <tr>\n",
       "      <th>1</th>\n",
       "      <td>471</td>\n",
       "      <td>228</td>\n",
       "      <td>5</td>\n",
       "    </tr>\n",
       "    <tr>\n",
       "      <th>2</th>\n",
       "      <td>641</td>\n",
       "      <td>401</td>\n",
       "      <td>4</td>\n",
       "    </tr>\n",
       "    <tr>\n",
       "      <th>3</th>\n",
       "      <td>312</td>\n",
       "      <td>98</td>\n",
       "      <td>4</td>\n",
       "    </tr>\n",
       "    <tr>\n",
       "      <th>4</th>\n",
       "      <td>58</td>\n",
       "      <td>504</td>\n",
       "      <td>5</td>\n",
       "    </tr>\n",
       "  </tbody>\n",
       "</table>\n",
       "</div>"
      ],
      "text/plain": [
       "   user_id  item_id  rating\n",
       "0      772       36       3\n",
       "1      471      228       5\n",
       "2      641      401       4\n",
       "3      312       98       4\n",
       "4       58      504       5"
      ]
     },
     "execution_count": 155,
     "metadata": {},
     "output_type": "execute_result"
    }
   ],
   "source": [
    "import pandas as pd\n",
    "data=pd.read_csv('ratings_train.csv')\n",
    "data.head()"
   ]
  },
  {
   "cell_type": "code",
   "execution_count": 156,
   "metadata": {},
   "outputs": [],
   "source": [
    "rows = data['user_id'].nunique()\n",
    "columns = np.max(data.item_id.values) +1"
   ]
  },
  {
   "cell_type": "code",
   "execution_count": 157,
   "metadata": {},
   "outputs": [],
   "source": [
    "d = dict()\n",
    "for i in sorted(data.user_id.unique()):\n",
    "    d[i] = sorted(data[data.user_id == i]['item_id'].values)"
   ]
  },
  {
   "cell_type": "code",
   "execution_count": 158,
   "metadata": {},
   "outputs": [],
   "source": [
    "row_pos = list()\n",
    "column_pos = list()\n",
    "values = list()\n",
    "\n",
    "for idx,val in enumerate(sorted(data.user_id.unique())):\n",
    "    row_pos.extend([val for j in d[val]] )\n",
    "    column_pos.extend(d[val])\n",
    "    values.extend(list(data[data.user_id == val].sort_values('item_id')['rating'].values))"
   ]
  },
  {
   "cell_type": "markdown",
   "metadata": {
    "id": "mvB8SDS_hW03"
   },
   "source": [
    "<font color='red'>Create your adjacency matrix </font>"
   ]
  },
  {
   "cell_type": "code",
   "execution_count": 159,
   "metadata": {
    "id": "t44MNT40hZQW"
   },
   "outputs": [],
   "source": [
    "from scipy.sparse import csr_matrix\n",
    "\n",
    "\n",
    "adjacency_matrix = csr_matrix((values, (row_pos,column_pos)), shape=(rows,columns))\n"
   ]
  },
  {
   "cell_type": "code",
   "execution_count": 160,
   "metadata": {},
   "outputs": [
    {
     "data": {
      "text/plain": [
       "<943x1681 sparse matrix of type '<class 'numpy.int64'>'\n",
       "\twith 89992 stored elements in Compressed Sparse Row format>"
      ]
     },
     "execution_count": 160,
     "metadata": {},
     "output_type": "execute_result"
    }
   ],
   "source": [
    "adjacency_matrix"
   ]
  },
  {
   "cell_type": "code",
   "execution_count": 161,
   "metadata": {
    "id": "-mCgC0WbhZTO"
   },
   "outputs": [
    {
     "data": {
      "text/plain": [
       "(943, 1681)"
      ]
     },
     "execution_count": 161,
     "metadata": {},
     "output_type": "execute_result"
    }
   ],
   "source": [
    "adjacency_matrix.shape"
   ]
  },
  {
   "cell_type": "markdown",
   "metadata": {
    "id": "4acJD4ujEtD6"
   },
   "source": [
    "<font color='cyan'>Grader function - 1</font>"
   ]
  },
  {
   "cell_type": "code",
   "execution_count": 162,
   "metadata": {
    "id": "2QuTzFBREsDV"
   },
   "outputs": [
    {
     "data": {
      "text/plain": [
       "True"
      ]
     },
     "execution_count": 162,
     "metadata": {},
     "output_type": "execute_result"
    }
   ],
   "source": [
    "def grader_matrix(matrix):\n",
    "  assert(matrix.shape==(943,1681))\n",
    "  return True\n",
    "grader_matrix(adjacency_matrix)"
   ]
  },
  {
   "cell_type": "markdown",
   "metadata": {
    "id": "U7VwkRNeHpWE"
   },
   "source": [
    "**The unique items in the given csv file are 1662 only . But the id's vary from 0-1681 but they are not continuous and hence \n",
    "you'll get matrix of size 943x1681.**"
   ]
  },
  {
   "cell_type": "markdown",
   "metadata": {
    "id": "gXDf1RCUBsYN"
   },
   "source": [
    "<font color='red'> SVD decompostion</font>"
   ]
  },
  {
   "cell_type": "markdown",
   "metadata": {
    "id": "OJPWI9VwD_ih"
   },
   "source": [
    "Sample code for SVD decompostion"
   ]
  },
  {
   "cell_type": "code",
   "execution_count": 163,
   "metadata": {
    "colab": {
     "base_uri": "https://localhost:8080/",
     "height": 67
    },
    "id": "GATD35bmBszc",
    "outputId": "b3f57c71-7ce6-4796-ab6c-e7af570a864c"
   },
   "outputs": [
    {
     "name": "stdout",
     "output_type": "stream",
     "text": [
      "(20, 5)\n",
      "(5,)\n",
      "(10, 5)\n"
     ]
    }
   ],
   "source": [
    "from sklearn.utils.extmath import randomized_svd\n",
    "import numpy as np \n",
    "matrix = np.random.random((20, 10))\n",
    "U, Sigma, VT = randomized_svd(matrix, n_components=5,n_iter=5, random_state=None)\n",
    "print(U.shape)\n",
    "print(Sigma.shape)\n",
    "print(VT.T.shape)"
   ]
  },
  {
   "cell_type": "markdown",
   "metadata": {
    "id": "ePDgwALQEJoB"
   },
   "source": [
    "<font color='red'>Write your code for SVD decompostion</font>"
   ]
  },
  {
   "cell_type": "code",
   "execution_count": 164,
   "metadata": {
    "id": "ZYnsKBmFEIg3"
   },
   "outputs": [
    {
     "name": "stdout",
     "output_type": "stream",
     "text": [
      "(943, 5)\n",
      "(5,)\n",
      "(1681, 5)\n"
     ]
    }
   ],
   "source": [
    "# Please use adjacency_matrix as matrix for SVD decompostion\n",
    "# You can choose n_components as your choice\n",
    "from sklearn.utils.extmath import randomized_svd\n",
    "import numpy as np \n",
    "U, Sigma, VT = randomized_svd(adjacency_matrix, n_components=5,n_iter=5, random_state=None)\n",
    "print(U.shape)\n",
    "print(Sigma.shape)\n",
    "print(VT.T.shape)"
   ]
  },
  {
   "cell_type": "markdown",
   "metadata": {
    "id": "83Vh4NoO_JyU"
   },
   "source": [
    "<font color='red'>Compute mean of ratings</font>"
   ]
  },
  {
   "cell_type": "code",
   "execution_count": 165,
   "metadata": {
    "id": "cBHuCn2QSEnl"
   },
   "outputs": [],
   "source": [
    "def m_u(ratings):\n",
    "    '''In this function, we will compute mean for all the ratings'''\n",
    "    # you can use mean() function to do this\n",
    "    # check this (https://pandas.pydata.org/pandas-docs/stable/reference/api/pandas.DataFrame.mean.html) link for more details.\n",
    "    \n",
    "\n",
    "    return np.mean(ratings)"
   ]
  },
  {
   "cell_type": "code",
   "execution_count": 166,
   "metadata": {
    "id": "iu1nn-1x3ebp"
   },
   "outputs": [
    {
     "name": "stdout",
     "output_type": "stream",
     "text": [
      "3.529480398257623\n"
     ]
    }
   ],
   "source": [
    "mu=m_u(data['rating'])\n",
    "print(mu)"
   ]
  },
  {
   "cell_type": "markdown",
   "metadata": {
    "id": "76ooYQIdG_tf"
   },
   "source": [
    "<font color='cyan'>Grader function -2 </font>"
   ]
  },
  {
   "cell_type": "code",
   "execution_count": 167,
   "metadata": {
    "id": "TZy1m67oG9r9"
   },
   "outputs": [
    {
     "data": {
      "text/plain": [
       "True"
      ]
     },
     "execution_count": 167,
     "metadata": {},
     "output_type": "execute_result"
    }
   ],
   "source": [
    "def grader_mean(mu):\n",
    "  assert(np.round(mu,3)==3.529)\n",
    "  return True\n",
    "mu=m_u(data['rating'])\n",
    "grader_mean(mu)"
   ]
  },
  {
   "cell_type": "markdown",
   "metadata": {
    "id": "qSvAW1X94g3G"
   },
   "source": [
    "<font color='red'>Initialize $B_{i}$ and $C_{j}$"
   ]
  },
  {
   "cell_type": "markdown",
   "metadata": {
    "id": "qsOl-4xq5aUG"
   },
   "source": [
    "Hint : Number of rows of adjacent matrix corresponds to user dimensions($B_{i}$), number of columns of adjacent matrix corresponds to movie dimensions ($C_{j}$)"
   ]
  },
  {
   "cell_type": "code",
   "execution_count": 168,
   "metadata": {
    "id": "AyEJqPka4lBW"
   },
   "outputs": [],
   "source": [
    "def initialize(dim):\n",
    "    '''In this function, we will initialize bias value 'B' and 'C'.'''\n",
    "    # initalize the value to zeros \n",
    "    # return output as a list of zeros \n",
    "    \n",
    "    \n",
    "\n",
    "    return np.zeros(dim)"
   ]
  },
  {
   "cell_type": "code",
   "execution_count": 169,
   "metadata": {
    "id": "Nlae9QAQ43Xz"
   },
   "outputs": [],
   "source": [
    "dim= U.shape[0]\n",
    "b_i=initialize(dim)"
   ]
  },
  {
   "cell_type": "code",
   "execution_count": 170,
   "metadata": {
    "id": "rwuopn4HoEbP"
   },
   "outputs": [],
   "source": [
    "dim= VT.T.shape[0]\n",
    "c_j=initialize(dim)"
   ]
  },
  {
   "cell_type": "markdown",
   "metadata": {
    "id": "nfPJ3_h6JIkI"
   },
   "source": [
    "<font color='cyan'>Grader function -3 </font>"
   ]
  },
  {
   "cell_type": "code",
   "execution_count": 171,
   "metadata": {
    "id": "dQhiNjw0Hz4m"
   },
   "outputs": [
    {
     "data": {
      "text/plain": [
       "True"
      ]
     },
     "execution_count": 171,
     "metadata": {},
     "output_type": "execute_result"
    }
   ],
   "source": [
    "def grader_dim(b_i,c_j):\n",
    "  assert(len(b_i)==943 and np.sum(b_i)==0)\n",
    "  assert(len(c_j)==1681 and np.sum(c_j)==0)\n",
    "  return True\n",
    "grader_dim(b_i,c_j)"
   ]
  },
  {
   "cell_type": "markdown",
   "metadata": {
    "id": "DTDK4ZR18MrZ"
   },
   "source": [
    "<font color='red'>Compute dL/db_i</font>"
   ]
  },
  {
   "cell_type": "code",
   "execution_count": 172,
   "metadata": {
    "id": "3NFzVC1N8S4L"
   },
   "outputs": [],
   "source": [
    "def derivative_db(user_id,item_id,rating,U,V,mu,alpha):\n",
    "    '''In this function, we will compute dL/db_i'''\n",
    "    \n",
    "    return alpha * (2 * np.sum(b_i)) + -2 * (rating-mu - b_i[user_id] - c_j[item_id] - np.dot(U1[user_id].T,V1.T[item_id]))\n"
   ]
  },
  {
   "cell_type": "markdown",
   "metadata": {
    "id": "ilISrTeQ0f0v"
   },
   "source": [
    "<font color='cyan'>Grader function -4 </font>"
   ]
  },
  {
   "cell_type": "code",
   "execution_count": 173,
   "metadata": {
    "id": "Wt5ixEVZ043U"
   },
   "outputs": [
    {
     "data": {
      "text/plain": [
       "True"
      ]
     },
     "execution_count": 173,
     "metadata": {},
     "output_type": "execute_result"
    }
   ],
   "source": [
    "def grader_db(value):\n",
    "    assert(np.round(value,3)==-0.931)\n",
    "    return True\n",
    "U1, Sigma, V1 = randomized_svd(adjacency_matrix, n_components=2,n_iter=5, random_state=24)\n",
    "# Please don't change random state\n",
    "# Here we are considering n_componets = 2 for our convinence\n",
    "alpha=0.01 \n",
    "value=derivative_db(312,98,4,U1,V1,mu,alpha)\n",
    "grader_db(value)"
   ]
  },
  {
   "cell_type": "markdown",
   "metadata": {
    "id": "1Kp0hC_b9v60"
   },
   "source": [
    "<font color='red'>Compute dL/dc_j</font>"
   ]
  },
  {
   "cell_type": "code",
   "execution_count": 174,
   "metadata": {
    "id": "FAtSYMrc9UqJ"
   },
   "outputs": [],
   "source": [
    "def derivative_dc(user_id,item_id,rating,U,V,mu, alpha):\n",
    "    '''In this function, we will compute dL/dc_j'''\n",
    "    return alpha * (2 * np.sum(c_j)) + - 2 * (rating - mu - b_i[user_id] - c_j[item_id] - np.dot(U1[user_id].T,V1.T[item_id]))\n",
    "\n"
   ]
  },
  {
   "cell_type": "markdown",
   "metadata": {
    "id": "lxkAm8aH1SBF"
   },
   "source": [
    "<font color='cyan'>Grader function - 5 </font>"
   ]
  },
  {
   "cell_type": "code",
   "execution_count": 175,
   "metadata": {
    "id": "RaIN9yie1US8"
   },
   "outputs": [
    {
     "data": {
      "text/plain": [
       "True"
      ]
     },
     "execution_count": 175,
     "metadata": {},
     "output_type": "execute_result"
    }
   ],
   "source": [
    "def grader_dc(value):\n",
    "    assert(np.round(value,3)==-2.929)\n",
    "    return True\n",
    "U1, Sigma, V1 = randomized_svd(adjacency_matrix, n_components=2,n_iter=5, random_state=24)\n",
    "# Please don't change random state\n",
    "# Here we are considering n_componets = 2 for our convinence\n",
    "r=0.01 \n",
    "value=derivative_dc(58,504,5,U1,V1,mu,r)\n",
    "grader_dc(value)"
   ]
  },
  {
   "cell_type": "markdown",
   "metadata": {
    "id": "lg5XNbDWCIKI"
   },
   "source": [
    "<font color='red'>Compute MSE (mean squared error) for predicted ratings</font>\n"
   ]
  },
  {
   "cell_type": "markdown",
   "metadata": {
    "id": "7WUjNy0TDQX6"
   },
   "source": [
    "for each epoch, print the MSE value"
   ]
  },
  {
   "cell_type": "markdown",
   "metadata": {
    "id": "D2pCy1AKCafw"
   },
   "source": [
    "<pre>\n",
    "for each epoch:\n",
    "\n",
    "    for each pair of (user, movie):\n",
    "\n",
    "        b_i =  b_i - learning_rate * dL/db_i\n",
    "\n",
    "        c_j =  c_j - learning_rate * dL/dc_j\n",
    "\n",
    "predict the ratings with formula\n",
    "</pre>\n",
    "\n",
    "$\\hat{y}_{ij} = \\mu + b_i + c_j + \\text{dot_product}(u_i , v_j) $"
   ]
  },
  {
   "cell_type": "code",
   "execution_count": 176,
   "metadata": {
    "id": "kiKj-M6d2a-Y"
   },
   "outputs": [],
   "source": [
    "rating_li = data.rating.values\n",
    "mse = list()\n",
    "for e in range(10):\n",
    "    num = 0\n",
    "    y_hat  = list()\n",
    "    for a, b  in zip(data['user_id'].values,data['item_id'].values):\n",
    "        b_i[a] = b_i[a] - 0.01 * derivative_db(a,b,rating_li[num],U,VT,mu,0.01)\n",
    "        c_j[b] = c_j[b] - 0.01 * derivative_dc(a,b,rating_li[num],U,VT,mu,0.01)\n",
    "        \n",
    "        y_hat.append(mu+b_i[a]+c_j[b]+np.dot(U[a].T,VT.T[b]))\n",
    "        num +=1\n",
    "        \n",
    "    mse.append(np.square(np.mean(rating_li-y_hat)))"
   ]
  },
  {
   "cell_type": "code",
   "execution_count": 177,
   "metadata": {},
   "outputs": [
    {
     "data": {
      "text/plain": [
       "[0.003723415300341264,\n",
       " 0.013503818155680561,\n",
       " 0.020027564712220062,\n",
       " 0.024604367366089876,\n",
       " 0.027980801012663297,\n",
       " 0.03057130812516896,\n",
       " 0.03262238108309439,\n",
       " 0.0342886308493927,\n",
       " 0.035671385808566825,\n",
       " 0.036839573796983764]"
      ]
     },
     "execution_count": 177,
     "metadata": {},
     "output_type": "execute_result"
    }
   ],
   "source": [
    "mse"
   ]
  },
  {
   "cell_type": "markdown",
   "metadata": {
    "id": "hTXYZFFUVSg5"
   },
   "source": [
    "<font color='red'>Plot epoch number vs MSE </font>\n",
    "\n",
    "* epoch number on X-axis\n",
    "* MSE on Y-axis"
   ]
  },
  {
   "cell_type": "code",
   "execution_count": 178,
   "metadata": {},
   "outputs": [],
   "source": [
    "epoch = list(range(1,11))"
   ]
  },
  {
   "cell_type": "code",
   "execution_count": 179,
   "metadata": {
    "id": "igkkO3EvVRt6"
   },
   "outputs": [
    {
     "data": {
      "text/plain": [
       "<matplotlib.collections.PathCollection at 0x7fa605856df0>"
      ]
     },
     "execution_count": 179,
     "metadata": {},
     "output_type": "execute_result"
    },
    {
     "data": {
      "image/png": "[encoded data removed]",
      "text/plain": [
       "<Figure size 2000x500 with 1 Axes>"
      ]
     },
     "metadata": {},
     "output_type": "display_data"
    }
   ],
   "source": [
    "import matplotlib.pyplot as plt\n",
    "plt.figure(figsize=(20,5))\n",
    "plt.scatter(epoch,mse)"
   ]
  },
  {
   "cell_type": "markdown",
   "metadata": {
    "id": "NeWAGkT6C9kq"
   },
   "source": [
    "<br>"
   ]
  },
  {
   "cell_type": "markdown",
   "metadata": {
    "id": "lkIQOOo1C9o7"
   },
   "source": [
    "# <font color='red'> Task 2</font>"
   ]
  },
  {
   "cell_type": "markdown",
   "metadata": {
    "id": "9kl4Ryi_7E_T"
   },
   "source": [
    "- For this task you have to consider the user_matrix U and the user_info.csv file.\n",
    "- You have to consider is_male columns as  output features and rest as input features. Now you have to fit a model by posing this problem as binary classification task.\n",
    "- You can apply any model like Logistic regression or Decision tree and check the performance of the model. \n",
    "- Do plot confusion matrix after fitting your model and write your observations how your model is performing in this task.\n",
    "\n",
    "- Optional work- You can try scaling your U matrix.Scaling means changing the values of n_componenets while performing svd\n",
    "  and then check your results."
   ]
  },
  {
   "cell_type": "code",
   "execution_count": 180,
   "metadata": {
    "id": "c1FTc39gDdti"
   },
   "outputs": [],
   "source": [
    "df = pd.read_csv('user_info.csv')"
   ]
  },
  {
   "cell_type": "code",
   "execution_count": 186,
   "metadata": {
    "id": "s7e_3BBsHpWO"
   },
   "outputs": [],
   "source": [
    "output = df['is_male']\n",
    "inp = df.loc[:,df.columns != 'is_male']"
   ]
  },
  {
   "cell_type": "code",
   "execution_count": 192,
   "metadata": {},
   "outputs": [],
   "source": [
    "from sklearn.linear_model import LogisticRegression\n",
    "from sklearn.model_selection import StratifiedKFold\n",
    "from sklearn.model_selection import GridSearchCV\n",
    "from sklearn.metrics import confusion_matrix"
   ]
  },
  {
   "cell_type": "code",
   "execution_count": 189,
   "metadata": {},
   "outputs": [
    {
     "name": "stdout",
     "output_type": "stream",
     "text": [
      "Fitting 5 folds for each of 4 candidates, totalling 20 fits\n"
     ]
    },
    {
     "data": {
      "text/html": [
       "<style>#sk-container-id-1 {color: black;background-color: white;}#sk-container-id-1 pre{padding: 0;}#sk-container-id-1 div.sk-toggleable {background-color: white;}#sk-container-id-1 label.sk-toggleable__label {cursor: pointer;display: block;width: 100%;margin-bottom: 0;padding: 0.3em;box-sizing: border-box;text-align: center;}#sk-container-id-1 label.sk-toggleable__label-arrow:before {content: \"▸\";float: left;margin-right: 0.25em;color: #696969;}#sk-container-id-1 label.sk-toggleable__label-arrow:hover:before {color: black;}#sk-container-id-1 div.sk-estimator:hover label.sk-toggleable__label-arrow:before {color: black;}#sk-container-id-1 div.sk-toggleable__content {max-height: 0;max-width: 0;overflow: hidden;text-align: left;background-color: #f0f8ff;}#sk-container-id-1 div.sk-toggleable__content pre {margin: 0.2em;color: black;border-radius: 0.25em;background-color: #f0f8ff;}#sk-container-id-1 input.sk-toggleable__control:checked~div.sk-toggleable__content {max-height: 200px;max-width: 100%;overflow: auto;}#sk-container-id-1 input.sk-toggleable__control:checked~label.sk-toggleable__label-arrow:before {content: \"▾\";}#sk-container-id-1 div.sk-estimator input.sk-toggleable__control:checked~label.sk-toggleable__label {background-color: #d4ebff;}#sk-container-id-1 div.sk-label input.sk-toggleable__control:checked~label.sk-toggleable__label {background-color: #d4ebff;}#sk-container-id-1 input.sk-hidden--visually {border: 0;clip: rect(1px 1px 1px 1px);clip: rect(1px, 1px, 1px, 1px);height: 1px;margin: -1px;overflow: hidden;padding: 0;position: absolute;width: 1px;}#sk-container-id-1 div.sk-estimator {font-family: monospace;background-color: #f0f8ff;border: 1px dotted black;border-radius: 0.25em;box-sizing: border-box;margin-bottom: 0.5em;}#sk-container-id-1 div.sk-estimator:hover {background-color: #d4ebff;}#sk-container-id-1 div.sk-parallel-item::after {content: \"\";width: 100%;border-bottom: 1px solid gray;flex-grow: 1;}#sk-container-id-1 div.sk-label:hover label.sk-toggleable__label {background-color: #d4ebff;}#sk-container-id-1 div.sk-serial::before {content: \"\";position: absolute;border-left: 1px solid gray;box-sizing: border-box;top: 0;bottom: 0;left: 50%;z-index: 0;}#sk-container-id-1 div.sk-serial {display: flex;flex-direction: column;align-items: center;background-color: white;padding-right: 0.2em;padding-left: 0.2em;position: relative;}#sk-container-id-1 div.sk-item {position: relative;z-index: 1;}#sk-container-id-1 div.sk-parallel {display: flex;align-items: stretch;justify-content: center;background-color: white;position: relative;}#sk-container-id-1 div.sk-item::before, #sk-container-id-1 div.sk-parallel-item::before {content: \"\";position: absolute;border-left: 1px solid gray;box-sizing: border-box;top: 0;bottom: 0;left: 50%;z-index: -1;}#sk-container-id-1 div.sk-parallel-item {display: flex;flex-direction: column;z-index: 1;position: relative;background-color: white;}#sk-container-id-1 div.sk-parallel-item:first-child::after {align-self: flex-end;width: 50%;}#sk-container-id-1 div.sk-parallel-item:last-child::after {align-self: flex-start;width: 50%;}#sk-container-id-1 div.sk-parallel-item:only-child::after {width: 0;}#sk-container-id-1 div.sk-dashed-wrapped {border: 1px dashed gray;margin: 0 0.4em 0.5em 0.4em;box-sizing: border-box;padding-bottom: 0.4em;background-color: white;}#sk-container-id-1 div.sk-label label {font-family: monospace;font-weight: bold;display: inline-block;line-height: 1.2em;}#sk-container-id-1 div.sk-label-container {text-align: center;}#sk-container-id-1 div.sk-container {/* jupyter's `normalize.less` sets `[hidden] { display: none; }` but bootstrap.min.css set `[hidden] { display: none !important; }` so we also need the `!important` here to be able to override the default hidden behavior on the sphinx rendered scikit-learn.org. See: https://github.com/scikit-learn/scikit-learn/issues/21755 */display: inline-block !important;position: relative;}#sk-container-id-1 div.sk-text-repr-fallback {display: none;}</style><div id=\"sk-container-id-1\" class=\"sk-top-container\"><div class=\"sk-text-repr-fallback\"><pre>GridSearchCV(cv=StratifiedKFold(n_splits=5, random_state=None, shuffle=False),\n",
       "             estimator=LogisticRegression(), n_jobs=-1,\n",
       "             param_grid={&#x27;C&#x27;: [0.01, 0.1, 1, 10]}, scoring=&#x27;f1&#x27;, verbose=1)</pre><b>In a Jupyter environment, please rerun this cell to show the HTML representation or trust the notebook. <br />On GitHub, the HTML representation is unable to render, please try loading this page with nbviewer.org.</b></div><div class=\"sk-container\" hidden><div class=\"sk-item sk-dashed-wrapped\"><div class=\"sk-label-container\"><div class=\"sk-label sk-toggleable\"><input class=\"sk-toggleable__control sk-hidden--visually\" id=\"sk-estimator-id-1\" type=\"checkbox\" ><label for=\"sk-estimator-id-1\" class=\"sk-toggleable__label sk-toggleable__label-arrow\">GridSearchCV</label><div class=\"sk-toggleable__content\"><pre>GridSearchCV(cv=StratifiedKFold(n_splits=5, random_state=None, shuffle=False),\n",
       "             estimator=LogisticRegression(), n_jobs=-1,\n",
       "             param_grid={&#x27;C&#x27;: [0.01, 0.1, 1, 10]}, scoring=&#x27;f1&#x27;, verbose=1)</pre></div></div></div><div class=\"sk-parallel\"><div class=\"sk-parallel-item\"><div class=\"sk-item\"><div class=\"sk-label-container\"><div class=\"sk-label sk-toggleable\"><input class=\"sk-toggleable__control sk-hidden--visually\" id=\"sk-estimator-id-2\" type=\"checkbox\" ><label for=\"sk-estimator-id-2\" class=\"sk-toggleable__label sk-toggleable__label-arrow\">estimator: LogisticRegression</label><div class=\"sk-toggleable__content\"><pre>LogisticRegression()</pre></div></div></div><div class=\"sk-serial\"><div class=\"sk-item\"><div class=\"sk-estimator sk-toggleable\"><input class=\"sk-toggleable__control sk-hidden--visually\" id=\"sk-estimator-id-3\" type=\"checkbox\" ><label for=\"sk-estimator-id-3\" class=\"sk-toggleable__label sk-toggleable__label-arrow\">LogisticRegression</label><div class=\"sk-toggleable__content\"><pre>LogisticRegression()</pre></div></div></div></div></div></div></div></div></div></div>"
      ],
      "text/plain": [
       "GridSearchCV(cv=StratifiedKFold(n_splits=5, random_state=None, shuffle=False),\n",
       "             estimator=LogisticRegression(), n_jobs=-1,\n",
       "             param_grid={'C': [0.01, 0.1, 1, 10]}, scoring='f1', verbose=1)"
      ]
     },
     "execution_count": 189,
     "metadata": {},
     "output_type": "execute_result"
    }
   ],
   "source": [
    "clf = GridSearchCV(estimator=LogisticRegression(intercept_scaling=1, dual=False, fit_intercept=True,penalty='l2', tol=0.0001),cv=StratifiedKFold(), n_jobs=-1,\n",
    "param_grid={'C': [0.01,0.1, 1, 10]}, verbose=1,scoring='f1')\n",
    "\n",
    "\n",
    "clf.fit(inp.values,output.values)\n"
   ]
  },
  {
   "cell_type": "code",
   "execution_count": 190,
   "metadata": {},
   "outputs": [
    {
     "data": {
      "text/plain": [
       "{'C': 0.01}"
      ]
     },
     "execution_count": 190,
     "metadata": {},
     "output_type": "execute_result"
    }
   ],
   "source": [
    "clf.best_params_"
   ]
  },
  {
   "cell_type": "code",
   "execution_count": 191,
   "metadata": {},
   "outputs": [
    {
     "data": {
      "text/html": [
       "<style>#sk-container-id-2 {color: black;background-color: white;}#sk-container-id-2 pre{padding: 0;}#sk-container-id-2 div.sk-toggleable {background-color: white;}#sk-container-id-2 label.sk-toggleable__label {cursor: pointer;display: block;width: 100%;margin-bottom: 0;padding: 0.3em;box-sizing: border-box;text-align: center;}#sk-container-id-2 label.sk-toggleable__label-arrow:before {content: \"▸\";float: left;margin-right: 0.25em;color: #696969;}#sk-container-id-2 label.sk-toggleable__label-arrow:hover:before {color: black;}#sk-container-id-2 div.sk-estimator:hover label.sk-toggleable__label-arrow:before {color: black;}#sk-container-id-2 div.sk-toggleable__content {max-height: 0;max-width: 0;overflow: hidden;text-align: left;background-color: #f0f8ff;}#sk-container-id-2 div.sk-toggleable__content pre {margin: 0.2em;color: black;border-radius: 0.25em;background-color: #f0f8ff;}#sk-container-id-2 input.sk-toggleable__control:checked~div.sk-toggleable__content {max-height: 200px;max-width: 100%;overflow: auto;}#sk-container-id-2 input.sk-toggleable__control:checked~label.sk-toggleable__label-arrow:before {content: \"▾\";}#sk-container-id-2 div.sk-estimator input.sk-toggleable__control:checked~label.sk-toggleable__label {background-color: #d4ebff;}#sk-container-id-2 div.sk-label input.sk-toggleable__control:checked~label.sk-toggleable__label {background-color: #d4ebff;}#sk-container-id-2 input.sk-hidden--visually {border: 0;clip: rect(1px 1px 1px 1px);clip: rect(1px, 1px, 1px, 1px);height: 1px;margin: -1px;overflow: hidden;padding: 0;position: absolute;width: 1px;}#sk-container-id-2 div.sk-estimator {font-family: monospace;background-color: #f0f8ff;border: 1px dotted black;border-radius: 0.25em;box-sizing: border-box;margin-bottom: 0.5em;}#sk-container-id-2 div.sk-estimator:hover {background-color: #d4ebff;}#sk-container-id-2 div.sk-parallel-item::after {content: \"\";width: 100%;border-bottom: 1px solid gray;flex-grow: 1;}#sk-container-id-2 div.sk-label:hover label.sk-toggleable__label {background-color: #d4ebff;}#sk-container-id-2 div.sk-serial::before {content: \"\";position: absolute;border-left: 1px solid gray;box-sizing: border-box;top: 0;bottom: 0;left: 50%;z-index: 0;}#sk-container-id-2 div.sk-serial {display: flex;flex-direction: column;align-items: center;background-color: white;padding-right: 0.2em;padding-left: 0.2em;position: relative;}#sk-container-id-2 div.sk-item {position: relative;z-index: 1;}#sk-container-id-2 div.sk-parallel {display: flex;align-items: stretch;justify-content: center;background-color: white;position: relative;}#sk-container-id-2 div.sk-item::before, #sk-container-id-2 div.sk-parallel-item::before {content: \"\";position: absolute;border-left: 1px solid gray;box-sizing: border-box;top: 0;bottom: 0;left: 50%;z-index: -1;}#sk-container-id-2 div.sk-parallel-item {display: flex;flex-direction: column;z-index: 1;position: relative;background-color: white;}#sk-container-id-2 div.sk-parallel-item:first-child::after {align-self: flex-end;width: 50%;}#sk-container-id-2 div.sk-parallel-item:last-child::after {align-self: flex-start;width: 50%;}#sk-container-id-2 div.sk-parallel-item:only-child::after {width: 0;}#sk-container-id-2 div.sk-dashed-wrapped {border: 1px dashed gray;margin: 0 0.4em 0.5em 0.4em;box-sizing: border-box;padding-bottom: 0.4em;background-color: white;}#sk-container-id-2 div.sk-label label {font-family: monospace;font-weight: bold;display: inline-block;line-height: 1.2em;}#sk-container-id-2 div.sk-label-container {text-align: center;}#sk-container-id-2 div.sk-container {/* jupyter's `normalize.less` sets `[hidden] { display: none; }` but bootstrap.min.css set `[hidden] { display: none !important; }` so we also need the `!important` here to be able to override the default hidden behavior on the sphinx rendered scikit-learn.org. See: https://github.com/scikit-learn/scikit-learn/issues/21755 */display: inline-block !important;position: relative;}#sk-container-id-2 div.sk-text-repr-fallback {display: none;}</style><div id=\"sk-container-id-2\" class=\"sk-top-container\"><div class=\"sk-text-repr-fallback\"><pre>LogisticRegression(C=0.01)</pre><b>In a Jupyter environment, please rerun this cell to show the HTML representation or trust the notebook. <br />On GitHub, the HTML representation is unable to render, please try loading this page with nbviewer.org.</b></div><div class=\"sk-container\" hidden><div class=\"sk-item\"><div class=\"sk-estimator sk-toggleable\"><input class=\"sk-toggleable__control sk-hidden--visually\" id=\"sk-estimator-id-4\" type=\"checkbox\" checked><label for=\"sk-estimator-id-4\" class=\"sk-toggleable__label sk-toggleable__label-arrow\">LogisticRegression</label><div class=\"sk-toggleable__content\"><pre>LogisticRegression(C=0.01)</pre></div></div></div></div></div>"
      ],
      "text/plain": [
       "LogisticRegression(C=0.01)"
      ]
     },
     "execution_count": 191,
     "metadata": {},
     "output_type": "execute_result"
    }
   ],
   "source": [
    "model = LogisticRegression(intercept_scaling=1, dual=False, fit_intercept=True,penalty='l2', tol=0.0001,C=0.01)\n",
    "model.fit(inp.values,output.values)"
   ]
  },
  {
   "cell_type": "code",
   "execution_count": 197,
   "metadata": {},
   "outputs": [
    {
     "name": "stdout",
     "output_type": "stream",
     "text": [
      "[[  0 273]\n",
      " [  0 670]]\n"
     ]
    }
   ],
   "source": [
    "print(confusion_matrix(output.values,model.predict(inp.values)))"
   ]
  },
  {
   "cell_type": "code",
   "execution_count": null,
   "metadata": {},
   "outputs": [],
   "source": []
  }
 ],
 "metadata": {
  "colab": {
   "collapsed_sections": [],
   "name": "Recommendation_system_assignment_final.ipynb",
   "provenance": []
  },
  "kernelspec": {
   "display_name": "Python 3 (ipykernel)",
   "language": "python",
   "name": "python3"
  },
  "language_info": {
   "codemirror_mode": {
    "name": "ipython",
    "version": 3
   },
   "file_extension": ".py",
   "mimetype": "text/x-python",
   "name": "python",
   "nbconvert_exporter": "python",
   "pygments_lexer": "ipython3",
   "version": "3.8.5"
  }
 },
 "nbformat": 4,
 "nbformat_minor": 1
}
