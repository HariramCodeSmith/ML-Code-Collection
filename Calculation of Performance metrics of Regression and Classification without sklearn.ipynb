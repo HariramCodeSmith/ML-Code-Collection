{
 "cells": [
  {
   "cell_type": "markdown",
   "metadata": {
    "id": "s0Ej_bXyQvnV"
   },
   "source": [
    "# Compute performance metrics for the given Y and Y_score without sklearn"
   ]
  },
  {
   "cell_type": "code",
   "execution_count": 2,
   "metadata": {
    "id": "4CHb6NE7Qvnc"
   },
   "outputs": [],
   "source": [
    "import numpy as np\n",
    "import pandas as pd\n",
    "import seaborn as sns\n",
    "import matplotlib.pyplot as plt\n",
    "# other than these two you should not import any other packages"
   ]
  },
  {
   "cell_type": "markdown",
   "metadata": {
    "id": "KbsWXuDaQvnq"
   },
   "source": [
    "\n",
    "## A. Compute performance metrics for the given data '5_a.csv'\n",
    "Note 1: in this data you can see number of positive points >> number of negatives points\n",
    "Note 2: use pandas or numpy to read the data from 5_a.csv\n",
    "Note 3: you need to derive the class labels from given score $y^{pred}= {[0 if y_score < 0.5 else 1]}$\n",
    "\n",
    " Compute Confusion Matrix \n",
    " Compute F1 Score\n",
    " Compute AUC Score, you need to compute different thresholds and for each threshold compute tpr,fpr and then use               numpy.trapz(tpr_array, fpr_array)  Note: it should be numpy.trapz(tpr_array, fpr_array) not numpy.trapz(fpr_array, tpr_array)\n",
    "Note- Make sure that you arrange your probability scores in descending order while calculating AUC</li>\n",
    "Compute Accuracy Score \n"
   ]
  },
  {
   "cell_type": "code",
   "execution_count": 3,
   "metadata": {
    "id": "WaFLW7oBQvnt"
   },
   "outputs": [],
   "source": [
    "df_a=pd.read_csv('5_a.csv')\n",
    "df_a.to_csv('hh.csv')"
   ]
  },
  {
   "cell_type": "code",
   "execution_count": 4,
   "metadata": {
    "id": "yg8uUJvGAfCM"
   },
   "outputs": [],
   "source": [
    "# write your code here for task A\n",
    "df_a['y_pred'] = df_a['proba'].apply(lambda x: 0 if x<0.5 else 1)"
   ]
  },
  {
   "cell_type": "code",
   "execution_count": 5,
   "metadata": {},
   "outputs": [
    {
     "data": {
      "text/plain": [
       "1.0    10000\n",
       "0.0      100\n",
       "Name: y, dtype: int64"
      ]
     },
     "execution_count": 5,
     "metadata": {},
     "output_type": "execute_result"
    }
   ],
   "source": [
    "df_a.y.value_counts()"
   ]
  },
  {
   "cell_type": "code",
   "execution_count": 95,
   "metadata": {},
   "outputs": [
    {
     "data": {
      "image/png": "[encoded data removed]",
      "text/plain": [
       "<Figure size 432x288 with 2 Axes>"
      ]
     },
     "metadata": {
      "needs_background": "light"
     },
     "output_type": "display_data"
    }
   ],
   "source": [
    "#Confusion Matrix:\n",
    "tn = df_a[(df_a['y_pred'] == 0) & (df_a['y'] == 0)].shape[0]\n",
    "fn = df_a[(df_a['y_pred'] == 0) & (df_a['y'] == 1)].shape[0]\n",
    "fp = df_a[(df_a['y_pred'] == 1) & (df_a['y'] == 0)].shape[0]\n",
    "tp = df_a[(df_a['y_pred'] == 1) & (df_a['y'] == 1)].shape[0]\n",
    "\n",
    "n = np.array([tn,fp,fn,tp])\n",
    "n = n.reshape(-1,2)\n",
    "\n",
    "ax= plt.subplot()\n",
    "sns.heatmap(n, annot=True, fmt='g'); \n",
    "\n",
    "# labels, title and ticks\n",
    "ax.set_xlabel('Predicted labels');ax.set_ylabel('True labels'); \n",
    "ax.set_title('Confusion Matrix'); \n",
    "ax.xaxis.set_ticklabels([0, 1]); ax.yaxis.set_ticklabels([0, 1]);"
   ]
  },
  {
   "cell_type": "code",
   "execution_count": 96,
   "metadata": {},
   "outputs": [
    {
     "name": "stdout",
     "output_type": "stream",
     "text": [
      "precision: 0.9900990099009901\n",
      "recall: 1.0\n",
      "f1 score 0.9950248756218906\n"
     ]
    }
   ],
   "source": [
    "pr = tp/(tp+fp)\n",
    "print('precision:',pr)\n",
    "re = tp/(fn+tp)\n",
    "print('recall:',re)\n",
    "f1 = 2*(pr*re/(pr+re))\n",
    "print('f1 score',f1)"
   ]
  },
  {
   "cell_type": "code",
   "execution_count": 101,
   "metadata": {},
   "outputs": [],
   "source": [
    "#Accuracy Score\n",
    "acc_score = (tp+tn)/(tp+fp+fn+tn)"
   ]
  },
  {
   "cell_type": "code",
   "execution_count": 102,
   "metadata": {},
   "outputs": [
    {
     "name": "stdout",
     "output_type": "stream",
     "text": [
      "accuracy: 0.9900990099009901\n"
     ]
    }
   ],
   "source": [
    "print('accuracy:',acc_score)"
   ]
  },
  {
   "cell_type": "code",
   "execution_count": 103,
   "metadata": {},
   "outputs": [],
   "source": [
    "df = df_a.sort_values(by=['proba'],ascending=False).reset_index()"
   ]
  },
  {
   "cell_type": "code",
   "execution_count": 104,
   "metadata": {},
   "outputs": [],
   "source": [
    "tpr_array = list()\n",
    "fpr_array = list()\n",
    "for i in list(df.proba.unique()):\n",
    "    df['y_pred'] = df['proba'].apply(lambda x: 0 if x<i else 1)\n",
    "    #print(i)\n",
    "    tn = df[(df['y_pred'] == 0) & (df['y'] == 0)].shape[0]\n",
    "    fn = df[(df['y_pred'] == 0) & (df['y'] == 1)].shape[0]\n",
    "    fp = df[(df['y_pred'] == 1) & (df['y'] == 0)].shape[0]\n",
    "    tp = df[(df['y_pred'] == 1) & (df['y'] == 1)].shape[0]\n",
    "    tpr = tp/(fn+tp)\n",
    "    fpr = fp/(tn+fp)\n",
    "    tpr_array.append(tpr)\n",
    "    fpr_array.append(fpr)"
   ]
  },
  {
   "cell_type": "code",
   "execution_count": 105,
   "metadata": {},
   "outputs": [
    {
     "data": {
      "text/plain": [
       "0.48829900000000004"
      ]
     },
     "execution_count": 105,
     "metadata": {},
     "output_type": "execute_result"
    }
   ],
   "source": [
    "np.trapz(tpr_array, fpr_array)"
   ]
  },
  {
   "cell_type": "code",
   "execution_count": null,
   "metadata": {},
   "outputs": [],
   "source": [
    "B. Compute performance metrics for the given data '5_b.csv'\n",
    "   Note 1: in this data you can see number of positive points << number of negatives points\n",
    "   Note 2: use pandas or numpy to read the data from 5_b.csv\n",
    "   Note 3: you need to derive the class labels from given score\n",
    "𝑦𝑝𝑟𝑒𝑑=[0 if y_score < 0.5 else 1] \n",
    "\n",
    " Compute Confusion Matrix \n",
    "\n",
    " Compute F1 Score \n",
    "\n",
    " Compute AUC Score, you need to compute different thresholds and for each threshold compute tpr,fpr and then use               numpy.trapz(tpr_array, fpr_array) https://stackoverflow.com/q/53603376/4084039, https://stackoverflow.com/a/39678975/4084039\n",
    "Note- Make sure that you arrange your probability scores in descending order while calculating AUC\n",
    "\n",
    " Compute Accuracy Score "
   ]
  },
  {
   "cell_type": "markdown",
   "metadata": {
    "id": "V5KZem1BQvn2"
   },
   "source": []
  },
  {
   "cell_type": "code",
   "execution_count": 115,
   "metadata": {
    "id": "U2sKlq0YQvn5"
   },
   "outputs": [
    {
     "data": {
      "text/html": [
       "<div>\n",
       "<style scoped>\n",
       "    .dataframe tbody tr th:only-of-type {\n",
       "        vertical-align: middle;\n",
       "    }\n",
       "\n",
       "    .dataframe tbody tr th {\n",
       "        vertical-align: top;\n",
       "    }\n",
       "\n",
       "    .dataframe thead th {\n",
       "        text-align: right;\n",
       "    }\n",
       "</style>\n",
       "<table border=\"1\" class=\"dataframe\">\n",
       "  <thead>\n",
       "    <tr style=\"text-align: right;\">\n",
       "      <th></th>\n",
       "      <th>y</th>\n",
       "      <th>proba</th>\n",
       "    </tr>\n",
       "  </thead>\n",
       "  <tbody>\n",
       "    <tr>\n",
       "      <th>0</th>\n",
       "      <td>0.0</td>\n",
       "      <td>0.281035</td>\n",
       "    </tr>\n",
       "    <tr>\n",
       "      <th>1</th>\n",
       "      <td>0.0</td>\n",
       "      <td>0.465152</td>\n",
       "    </tr>\n",
       "    <tr>\n",
       "      <th>2</th>\n",
       "      <td>0.0</td>\n",
       "      <td>0.352793</td>\n",
       "    </tr>\n",
       "    <tr>\n",
       "      <th>3</th>\n",
       "      <td>0.0</td>\n",
       "      <td>0.157818</td>\n",
       "    </tr>\n",
       "    <tr>\n",
       "      <th>4</th>\n",
       "      <td>0.0</td>\n",
       "      <td>0.276648</td>\n",
       "    </tr>\n",
       "  </tbody>\n",
       "</table>\n",
       "</div>"
      ],
      "text/plain": [
       "     y     proba\n",
       "0  0.0  0.281035\n",
       "1  0.0  0.465152\n",
       "2  0.0  0.352793\n",
       "3  0.0  0.157818\n",
       "4  0.0  0.276648"
      ]
     },
     "execution_count": 115,
     "metadata": {},
     "output_type": "execute_result"
    }
   ],
   "source": [
    "df_b=pd.read_csv('5_b.csv')\n",
    "df_b.head()"
   ]
  },
  {
   "cell_type": "code",
   "execution_count": 116,
   "metadata": {
    "id": "xlLVa-cVAfCS"
   },
   "outputs": [],
   "source": [
    "# write your code here for task B\n",
    "df_b['y_pred'] = df_b['proba'].apply(lambda x: 0 if x<0.5 else 1)"
   ]
  },
  {
   "cell_type": "code",
   "execution_count": 123,
   "metadata": {},
   "outputs": [
    {
     "data": {
      "image/png": "[encoded data removed]",
      "text/plain": [
       "<Figure size 432x288 with 2 Axes>"
      ]
     },
     "metadata": {
      "needs_background": "light"
     },
     "output_type": "display_data"
    }
   ],
   "source": [
    "#Confusion Matrix:\n",
    "tn = df_b[(df_b['y_pred'] == 0) & (df_b['y'] == 0)].shape[0]\n",
    "fn = df_b[(df_b['y_pred'] == 0) & (df_b['y'] == 1)].shape[0]\n",
    "fp = df_b[(df_b['y_pred'] == 1) & (df_b['y'] == 0)].shape[0]\n",
    "tp = df_b[(df_b['y_pred'] == 1) & (df_b['y'] == 1)].shape[0]\n",
    "\n",
    "n = np.array([tn,fp,fn,tp])\n",
    "n = n.reshape(-1,2)\n",
    "\n",
    "ax= plt.subplot()\n",
    "sns.heatmap(n, annot=True, fmt='g'); \n",
    "\n",
    "# labels, title and ticks\n",
    "ax.set_xlabel('Predicted labels');ax.set_ylabel('True labels'); \n",
    "ax.set_title('Confusion Matrix'); \n",
    "ax.xaxis.set_ticklabels([0, 1]); ax.yaxis.set_ticklabels([0, 1]);"
   ]
  },
  {
   "cell_type": "code",
   "execution_count": 124,
   "metadata": {},
   "outputs": [
    {
     "name": "stdout",
     "output_type": "stream",
     "text": [
      "precision: 0.1870748299319728\n",
      "recall: 0.55\n",
      "f1 score 0.2791878172588833\n"
     ]
    }
   ],
   "source": [
    "#f1 score\n",
    "pr = tp/(tp+fp)\n",
    "print('precision:',pr)\n",
    "re = tp/(fn+tp)\n",
    "print('recall:',re)\n",
    "f1 = 2*((pr*re)/(pr+re))\n",
    "print('f1 score',f1)"
   ]
  },
  {
   "cell_type": "code",
   "execution_count": 125,
   "metadata": {},
   "outputs": [],
   "source": [
    "df = df_b.sort_values(by=['proba'],ascending=False).reset_index()"
   ]
  },
  {
   "cell_type": "code",
   "execution_count": 120,
   "metadata": {},
   "outputs": [],
   "source": [
    "tpr_array = list()\n",
    "fpr_array = list()\n",
    "for i in list(df.proba.unique()):\n",
    "    df['y_pred'] = df['proba'].apply(lambda x: 0 if x<i else 1)\n",
    "   \n",
    "    tn = df[(df['y_pred'] == 0) & (df['y'] == 0)].shape[0]\n",
    "    fn = df[(df['y_pred'] == 0) & (df['y'] == 1)].shape[0]\n",
    "    fp = df[(df['y_pred'] == 1) & (df['y'] == 0)].shape[0]\n",
    "    tp = df[(df['y_pred'] == 1) & (df['y'] == 1)].shape[0]\n",
    "    tpr = tp/(fn+tp)\n",
    "    fpr = fp/(tn+fp)\n",
    "    tpr_array.append(tpr)\n",
    "    fpr_array.append(fpr)"
   ]
  },
  {
   "cell_type": "code",
   "execution_count": 121,
   "metadata": {},
   "outputs": [
    {
     "data": {
      "text/plain": [
       "0.9377570000000001"
      ]
     },
     "execution_count": 121,
     "metadata": {},
     "output_type": "execute_result"
    }
   ],
   "source": [
    "np.trapz(tpr_array, fpr_array)"
   ]
  },
  {
   "cell_type": "code",
   "execution_count": null,
   "metadata": {},
   "outputs": [],
   "source": [
    "C. Compute the best threshold (similarly to ROC curve computation) of probability which gives lowest values of metric A for the given data\n",
    "\n",
    "you will be predicting label of a data points like this:  𝑦𝑝𝑟𝑒𝑑=[0 if y_score < threshold else 1] \n",
    "𝐴=500×number of false negative+100×numebr of false positive \n",
    "   Note 1: in this data you can see number of negative points > number of positive points\n",
    "   Note 2: use pandas or numpy to read the data from 5_c.csv"
   ]
  },
  {
   "cell_type": "markdown",
   "metadata": {
    "id": "GiPGonTzQvoB"
   },
   "source": []
  },
  {
   "cell_type": "code",
   "execution_count": 27,
   "metadata": {
    "id": "x5HIJzq1QvoE"
   },
   "outputs": [
    {
     "data": {
      "text/html": [
       "<div>\n",
       "<style scoped>\n",
       "    .dataframe tbody tr th:only-of-type {\n",
       "        vertical-align: middle;\n",
       "    }\n",
       "\n",
       "    .dataframe tbody tr th {\n",
       "        vertical-align: top;\n",
       "    }\n",
       "\n",
       "    .dataframe thead th {\n",
       "        text-align: right;\n",
       "    }\n",
       "</style>\n",
       "<table border=\"1\" class=\"dataframe\">\n",
       "  <thead>\n",
       "    <tr style=\"text-align: right;\">\n",
       "      <th></th>\n",
       "      <th>y</th>\n",
       "      <th>prob</th>\n",
       "    </tr>\n",
       "  </thead>\n",
       "  <tbody>\n",
       "    <tr>\n",
       "      <th>0</th>\n",
       "      <td>0</td>\n",
       "      <td>0.458521</td>\n",
       "    </tr>\n",
       "    <tr>\n",
       "      <th>1</th>\n",
       "      <td>0</td>\n",
       "      <td>0.505037</td>\n",
       "    </tr>\n",
       "    <tr>\n",
       "      <th>2</th>\n",
       "      <td>0</td>\n",
       "      <td>0.418652</td>\n",
       "    </tr>\n",
       "    <tr>\n",
       "      <th>3</th>\n",
       "      <td>0</td>\n",
       "      <td>0.412057</td>\n",
       "    </tr>\n",
       "    <tr>\n",
       "      <th>4</th>\n",
       "      <td>0</td>\n",
       "      <td>0.375579</td>\n",
       "    </tr>\n",
       "  </tbody>\n",
       "</table>\n",
       "</div>"
      ],
      "text/plain": [
       "   y      prob\n",
       "0  0  0.458521\n",
       "1  0  0.505037\n",
       "2  0  0.418652\n",
       "3  0  0.412057\n",
       "4  0  0.375579"
      ]
     },
     "execution_count": 27,
     "metadata": {},
     "output_type": "execute_result"
    }
   ],
   "source": [
    "df_c=pd.read_csv('5_c.csv')\n",
    "df_c.head()"
   ]
  },
  {
   "cell_type": "code",
   "execution_count": 29,
   "metadata": {
    "id": "eAPjewjzAfCa"
   },
   "outputs": [],
   "source": [
    " # write your code for task C\n",
    "li = list()\n",
    "for i in list(df_c.prob.unique()):\n",
    "    l = list()\n",
    "    df_c['y_pred'] = df_c['prob'].apply(lambda x: 0 if x< i else 1)\n",
    "    fn = df_c[(df_c['y_pred'] == 0) & (df_c['y'] == 1)].shape[0]\n",
    "    fp = df_c[(df_c['y_pred'] == 1) & (df_c['y'] == 0)].shape[0]\n",
    "    \n",
    "    l.append(i)\n",
    "    l.append((500*fn) + (100*fp))\n",
    "    #print(l)\n",
    "    li.append(l)"
   ]
  },
  {
   "cell_type": "code",
   "execution_count": 30,
   "metadata": {},
   "outputs": [],
   "source": [
    "d = pd.DataFrame(columns = ['Threshold','Score'], data = li)"
   ]
  },
  {
   "cell_type": "code",
   "execution_count": 31,
   "metadata": {},
   "outputs": [],
   "source": [
    "d_f = d.sort_values(by=['Score']).reset_index()"
   ]
  },
  {
   "cell_type": "code",
   "execution_count": 32,
   "metadata": {},
   "outputs": [
    {
     "data": {
      "text/plain": [
       "0    0.230039\n",
       "Name: Threshold, dtype: float64"
      ]
     },
     "execution_count": 32,
     "metadata": {},
     "output_type": "execute_result"
    }
   ],
   "source": [
    "#Minimum Threshold that gives low metric A\n",
    "d_f['Threshold'].iloc[0:1]"
   ]
  },
  {
   "cell_type": "code",
   "execution_count": 34,
   "metadata": {},
   "outputs": [
    {
     "ename": "IndentationError",
     "evalue": "unindent does not match any outer indentation level (<tokenize>, line 5)",
     "output_type": "error",
     "traceback": [
      "\u001b[0;36m  File \u001b[0;32m\"<tokenize>\"\u001b[0;36m, line \u001b[0;32m5\u001b[0m\n\u001b[0;31m    Compute Mean Square Error\u001b[0m\n\u001b[0m    ^\u001b[0m\n\u001b[0;31mIndentationError\u001b[0m\u001b[0;31m:\u001b[0m unindent does not match any outer indentation level\n"
     ]
    }
   ],
   "source": [
    "D. Compute performance metrics(for regression) for the given data 5_d.csv\n",
    "    Note 2: use pandas or numpy to read the data from 5_d.csv\n",
    "    Note 1: 5_d.csv will having two columns Y and predicted_Y both are real valued features\n",
    "\n",
    " Compute Mean Square Error \n",
    "\n",
    " Compute MAPE: https://www.youtube.com/watch?v=ly6ztgIkUxk\n",
    "\n",
    " Compute R^2 error: https://en.wikipedia.org/wiki/Coefficient_of_determination#Definitions "
   ]
  },
  {
   "cell_type": "code",
   "execution_count": null,
   "metadata": {},
   "outputs": [],
   "source": []
  },
  {
   "cell_type": "code",
   "execution_count": 46,
   "metadata": {
    "id": "sVOj-bF9AfCd"
   },
   "outputs": [
    {
     "data": {
      "text/html": [
       "<div>\n",
       "<style scoped>\n",
       "    .dataframe tbody tr th:only-of-type {\n",
       "        vertical-align: middle;\n",
       "    }\n",
       "\n",
       "    .dataframe tbody tr th {\n",
       "        vertical-align: top;\n",
       "    }\n",
       "\n",
       "    .dataframe thead th {\n",
       "        text-align: right;\n",
       "    }\n",
       "</style>\n",
       "<table border=\"1\" class=\"dataframe\">\n",
       "  <thead>\n",
       "    <tr style=\"text-align: right;\">\n",
       "      <th></th>\n",
       "      <th>y</th>\n",
       "      <th>pred</th>\n",
       "    </tr>\n",
       "  </thead>\n",
       "  <tbody>\n",
       "    <tr>\n",
       "      <th>0</th>\n",
       "      <td>101.0</td>\n",
       "      <td>100.0</td>\n",
       "    </tr>\n",
       "    <tr>\n",
       "      <th>1</th>\n",
       "      <td>120.0</td>\n",
       "      <td>100.0</td>\n",
       "    </tr>\n",
       "    <tr>\n",
       "      <th>2</th>\n",
       "      <td>131.0</td>\n",
       "      <td>113.0</td>\n",
       "    </tr>\n",
       "    <tr>\n",
       "      <th>3</th>\n",
       "      <td>164.0</td>\n",
       "      <td>125.0</td>\n",
       "    </tr>\n",
       "    <tr>\n",
       "      <th>4</th>\n",
       "      <td>154.0</td>\n",
       "      <td>152.0</td>\n",
       "    </tr>\n",
       "  </tbody>\n",
       "</table>\n",
       "</div>"
      ],
      "text/plain": [
       "       y   pred\n",
       "0  101.0  100.0\n",
       "1  120.0  100.0\n",
       "2  131.0  113.0\n",
       "3  164.0  125.0\n",
       "4  154.0  152.0"
      ]
     },
     "execution_count": 46,
     "metadata": {},
     "output_type": "execute_result"
    }
   ],
   "source": [
    "df_d=pd.read_csv('5_d.csv')\n",
    "df_d.head()"
   ]
  },
  {
   "cell_type": "code",
   "execution_count": 48,
   "metadata": {
    "id": "uRhL1pheAfCe"
   },
   "outputs": [
    {
     "name": "stdout",
     "output_type": "stream",
     "text": [
      "MSE: 177.16569974554707\n",
      "MAPE: 12.91202994009687\n",
      "R2: 0.9563582786990964\n"
     ]
    }
   ],
   "source": [
    " # write your code for task 5d\n",
    "#Mean Squared Error:\n",
    "c=0\n",
    "for i,j in zip(df_d['y'].values.tolist(),df_d['pred'].values.tolist()):\n",
    "    c+=np.square(j-i)\n",
    "mse = c/df_d.shape[0]\n",
    "print('MSE:',mse)\n",
    "#MAPE\n",
    "c=0\n",
    "for i,j in zip(df_d['y'].values.tolist(),df_d['pred'].values.tolist()):\n",
    "    c+=abs(i-j)\n",
    "mape = c/df_d.y.sum() * 100\n",
    "print('MAPE:',mape)\n",
    "#R2\n",
    "ss_res=0\n",
    "ss_tot = 0\n",
    "y_mean = np.mean(df_d['y'])\n",
    "for i,j in zip(df_d['y'].values.tolist(),df_d['pred'].values.tolist()):\n",
    "    ss_res+=np.square(i-j)\n",
    "    ss_tot+=np.square(i-y_mean)\n",
    "R2 = 1- (ss_res/ss_tot)\n",
    "print('R2:',R2)"
   ]
  },
  {
   "cell_type": "code",
   "execution_count": null,
   "metadata": {},
   "outputs": [],
   "source": []
  },
  {
   "cell_type": "code",
   "execution_count": null,
   "metadata": {},
   "outputs": [],
   "source": []
  }
 ],
 "metadata": {
  "colab": {
   "collapsed_sections": [],
   "name": "5_Performance_metrics_Instructions.ipynb",
   "provenance": []
  },
  "kernelspec": {
   "display_name": "Python 3 (ipykernel)",
   "language": "python",
   "name": "python3"
  },
  "language_info": {
   "codemirror_mode": {
    "name": "ipython",
    "version": 3
   },
   "file_extension": ".py",
   "mimetype": "text/x-python",
   "name": "python",
   "nbconvert_exporter": "python",
   "pygments_lexer": "ipython3",
   "version": "3.8.5"
  }
 },
 "nbformat": 4,
 "nbformat_minor": 1
}
